{
  "cells": [
    {
      "cell_type": "markdown",
      "metadata": {
        "id": "x5TTdyIoo3i7"
      },
      "source": [
        "# Creating a LlamaIndex RAG Pipeline with NL2SQL and Metadata Filtering!\n",
        "\n",
        "We'll be putting together a system for querying both qualitative and quantitative data using LlamaIndex.\n",
        "\n",
        "The acitvities will be broken down as follows:\n",
        "\n",
        "- 🤝 Breakout Room #1\n",
        "  - Task 1: Load Dependencies\n",
        "  - Task 2: Set Env Variables and Set Up WandB Callback\n",
        "  - Task 3: Initialize Settings\n",
        "  - Task 4: Index Creation\n",
        "  - Task 5: Simple RAG - `QueryEngine`\n",
        "  - Task 6: Auto Rertriever Functional Tool\n",
        "- 🤝 Breakout Room #2\n",
        "  - Task 1: Quantitative RAG Pipeline with NL2SQL Tooling\n",
        "  - Task 2: Combined RAG Pipeline\n",
        "\n",
        "Before we get started, however, a quick note on terminology."
      ]
    },
    {
      "cell_type": "markdown",
      "metadata": {
        "id": "re0q6syjUVt0"
      },
      "source": [
        "# 🤝 Breakout Room #1"
      ]
    },
    {
      "cell_type": "markdown",
      "metadata": {
        "id": "Msvju70DSV_8"
      },
      "source": [
        "## BOILERPLATE\n",
        "\n",
        "This is only relevant when running the code in a Jupyter Notebook."
      ]
    },
    {
      "cell_type": "code",
<<<<<<< HEAD
      "execution_count": 12,
=======
      "execution_count": 1,
>>>>>>> upstream/main
      "metadata": {
        "id": "7VF57GcmSV_9"
      },
      "outputs": [],
      "source": [
        "import nest_asyncio\n",
        "\n",
        "nest_asyncio.apply()\n",
        "\n",
        "import logging\n",
        "import sys\n",
        "\n",
        "logging.basicConfig(stream=sys.stdout, level=logging.INFO)\n",
        "logging.getLogger().addHandler(logging.StreamHandler(stream=sys.stdout))"
      ]
    },
    {
      "cell_type": "markdown",
      "metadata": {
        "id": "6zQBPs6zSV_9"
      },
      "source": [
        "## Load Dependencies"
      ]
    },
    {
      "cell_type": "markdown",
      "metadata": {
        "id": "WhEbxl3nSV_9"
      },
      "source": [
        "Let's grab our core `llama-index` library, as well as OpenAI's Python SDK.\n",
        "\n",
        "We'll be leveraging OpenAI's suite of APIs to power our RAG pipelines today.\n",
        "\n",
        "> NOTE: You can safely ignore any pip errors that occur during the running of these cells."
      ]
    },
    {
      "cell_type": "code",
<<<<<<< HEAD
      "execution_count": 13,
=======
      "execution_count": 2,
>>>>>>> upstream/main
      "metadata": {
        "colab": {
          "base_uri": "https://localhost:8080/"
        },
        "id": "b3oyvtl2SV_9",
        "outputId": "16ac5d58-2a4c-46ba-bf5b-c1354eed65fe"
      },
<<<<<<< HEAD
      "outputs": [],
=======
      "outputs": [
        {
          "name": "stdout",
          "output_type": "stream",
          "text": [
            "\u001b[2K     \u001b[90m━━━━━━━━━━━━━━━━━━━━━━━━━━━━━━━━━━━━━━━━\u001b[0m \u001b[32m327.4/327.4 kB\u001b[0m \u001b[31m5.3 MB/s\u001b[0m eta \u001b[36m0:00:00\u001b[0m\n",
            "\u001b[2K     \u001b[90m━━━━━━━━━━━━━━━━━━━━━━━━━━━━━━━━━━━━━━━━\u001b[0m \u001b[32m863.5/863.5 kB\u001b[0m \u001b[31m9.7 MB/s\u001b[0m eta \u001b[36m0:00:00\u001b[0m\n",
            "\u001b[2K     \u001b[90m━━━━━━━━━━━━━━━━━━━━━━━━━━━━━━━━━━━━━━━━\u001b[0m \u001b[32m15.4/15.4 MB\u001b[0m \u001b[31m48.5 MB/s\u001b[0m eta \u001b[36m0:00:00\u001b[0m\n",
            "\u001b[2K     \u001b[90m━━━━━━━━━━━━━━━━━━━━━━━━━━━━━━━━━━━━━━━━\u001b[0m \u001b[32m2.0/2.0 MB\u001b[0m \u001b[31m68.9 MB/s\u001b[0m eta \u001b[36m0:00:00\u001b[0m\n",
            "\u001b[2K     \u001b[90m━━━━━━━━━━━━━━━━━━━━━━━━━━━━━━━━━━━━━━━━\u001b[0m \u001b[32m75.6/75.6 kB\u001b[0m \u001b[31m8.6 MB/s\u001b[0m eta \u001b[36m0:00:00\u001b[0m\n",
            "\u001b[2K     \u001b[90m━━━━━━━━━━━━━━━━━━━━━━━━━━━━━━━━━━━━━━━━\u001b[0m \u001b[32m130.8/130.8 kB\u001b[0m \u001b[31m14.0 MB/s\u001b[0m eta \u001b[36m0:00:00\u001b[0m\n",
            "\u001b[2K     \u001b[90m━━━━━━━━━━━━━━━━━━━━━━━━━━━━━━━━━━━━━━━━\u001b[0m \u001b[32m1.1/1.1 MB\u001b[0m \u001b[31m52.2 MB/s\u001b[0m eta \u001b[36m0:00:00\u001b[0m\n",
            "\u001b[2K     \u001b[90m━━━━━━━━━━━━━━━━━━━━━━━━━━━━━━━━━━━━━━━━\u001b[0m \u001b[32m318.9/318.9 kB\u001b[0m \u001b[31m26.3 MB/s\u001b[0m eta \u001b[36m0:00:00\u001b[0m\n",
            "\u001b[2K     \u001b[90m━━━━━━━━━━━━━━━━━━━━━━━━━━━━━━━━━━━━━━━━\u001b[0m \u001b[32m77.9/77.9 kB\u001b[0m \u001b[31m8.8 MB/s\u001b[0m eta \u001b[36m0:00:00\u001b[0m\n",
            "\u001b[2K     \u001b[90m━━━━━━━━━━━━━━━━━━━━━━━━━━━━━━━━━━━━━━━━\u001b[0m \u001b[32m58.3/58.3 kB\u001b[0m \u001b[31m6.4 MB/s\u001b[0m eta \u001b[36m0:00:00\u001b[0m\n",
            "\u001b[2K     \u001b[90m━━━━━━━━━━━━━━━━━━━━━━━━━━━━━━━━━━━━━━━━\u001b[0m \u001b[32m290.4/290.4 kB\u001b[0m \u001b[31m23.6 MB/s\u001b[0m eta \u001b[36m0:00:00\u001b[0m\n",
            "\u001b[2K     \u001b[90m━━━━━━━━━━━━━━━━━━━━━━━━━━━━━━━━━━━━━━━━\u001b[0m \u001b[32m49.2/49.2 kB\u001b[0m \u001b[31m5.1 MB/s\u001b[0m eta \u001b[36m0:00:00\u001b[0m\n",
            "\u001b[?25h"
          ]
        }
      ],
>>>>>>> upstream/main
      "source": [
        "!pip install -qU llama-index openai anthropic"
      ]
    },
    {
      "cell_type": "markdown",
      "metadata": {
        "id": "uqTXRTrLPatl"
      },
      "source": [
        "We'll be collecting our semantic data from Wikipedia - and so will need the [Wikipedia Reader](https://github.com/run-llama/llama_index/tree/main/llama-index-integrations/readers/llama-index-readers-wikipedia)!"
      ]
    },
    {
      "cell_type": "code",
<<<<<<< HEAD
      "execution_count": 14,
=======
      "execution_count": 3,
>>>>>>> upstream/main
      "metadata": {
        "colab": {
          "base_uri": "https://localhost:8080/"
        },
        "id": "f9kXf7pPSV_-",
        "outputId": "82458114-8712-480a-d8c6-8bf7897a2814"
      },
<<<<<<< HEAD
      "outputs": [],
=======
      "outputs": [
        {
          "name": "stdout",
          "output_type": "stream",
          "text": [
            "  Preparing metadata (setup.py) ... \u001b[?25l\u001b[?25hdone\n",
            "  Building wheel for wikipedia (setup.py) ... \u001b[?25l\u001b[?25hdone\n"
          ]
        }
      ],
>>>>>>> upstream/main
      "source": [
        "!pip install -qU wikipedia llama-index-readers-wikipedia"
      ]
    },
    {
      "cell_type": "markdown",
      "metadata": {
        "id": "Qq_rWHZEPrCO"
      },
      "source": [
        "Our vector database today will be powered by [QDrant](https://qdrant.tech/) and so we'll need that package as well!"
      ]
    },
    {
      "cell_type": "code",
<<<<<<< HEAD
      "execution_count": 15,
=======
      "execution_count": 4,
>>>>>>> upstream/main
      "metadata": {
        "colab": {
          "base_uri": "https://localhost:8080/"
        },
        "id": "iMCA8HFGEPF_",
        "outputId": "48b81d6f-854b-4151-9c5b-b45bfbd04ea7"
      },
      "outputs": [
        {
          "name": "stdout",
          "output_type": "stream",
          "text": [
<<<<<<< HEAD
            "\u001b[31mERROR: pip's dependency resolver does not currently take into account all the packages that are installed. This behaviour is the source of the following dependency conflicts.\n",
            "wandb 0.16.6 requires protobuf!=4.21.0,<5,>=3.19.0; sys_platform != \"linux\", but you have protobuf 5.27.2 which is incompatible.\u001b[0m\u001b[31m\n",
=======
            "\u001b[2K     \u001b[90m━━━━━━━━━━━━━━━━━━━━━━━━━━━━━━━━━━━━━━━━\u001b[0m \u001b[32m230.1/230.1 kB\u001b[0m \u001b[31m3.5 MB/s\u001b[0m eta \u001b[36m0:00:00\u001b[0m\n",
            "\u001b[2K     \u001b[90m━━━━━━━━━━━━━━━━━━━━━━━━━━━━━━━━━━━━━━━━\u001b[0m \u001b[32m2.3/2.3 MB\u001b[0m \u001b[31m10.6 MB/s\u001b[0m eta \u001b[36m0:00:00\u001b[0m\n",
            "\u001b[2K     \u001b[90m━━━━━━━━━━━━━━━━━━━━━━━━━━━━━━━━━━━━━━━━\u001b[0m \u001b[32m309.2/309.2 kB\u001b[0m \u001b[31m12.8 MB/s\u001b[0m eta \u001b[36m0:00:00\u001b[0m\n",
            "\u001b[2K     \u001b[90m━━━━━━━━━━━━━━━━━━━━━━━━━━━━━━━━━━━━━━━━\u001b[0m \u001b[32m57.5/57.5 kB\u001b[0m \u001b[31m5.9 MB/s\u001b[0m eta \u001b[36m0:00:00\u001b[0m\n",
            "\u001b[?25h\u001b[31mERROR: pip's dependency resolver does not currently take into account all the packages that are installed. This behaviour is the source of the following dependency conflicts.\n",
            "cudf-cu12 24.4.1 requires protobuf<5,>=3.20, but you have protobuf 5.27.1 which is incompatible.\n",
            "google-ai-generativelanguage 0.6.4 requires protobuf!=3.20.0,!=3.20.1,!=4.21.0,!=4.21.1,!=4.21.2,!=4.21.3,!=4.21.4,!=4.21.5,<5.0.0dev,>=3.19.5, but you have protobuf 5.27.1 which is incompatible.\n",
            "google-api-core 2.11.1 requires protobuf!=3.20.0,!=3.20.1,!=4.21.0,!=4.21.1,!=4.21.2,!=4.21.3,!=4.21.4,!=4.21.5,<5.0.0.dev0,>=3.19.5, but you have protobuf 5.27.1 which is incompatible.\n",
            "google-cloud-aiplatform 1.56.0 requires protobuf!=3.20.0,!=3.20.1,!=4.21.0,!=4.21.1,!=4.21.2,!=4.21.3,!=4.21.4,!=4.21.5,<5.0.0dev,>=3.19.5, but you have protobuf 5.27.1 which is incompatible.\n",
            "google-cloud-bigquery-connection 1.12.1 requires protobuf!=3.20.0,!=3.20.1,!=4.21.0,!=4.21.1,!=4.21.2,!=4.21.3,!=4.21.4,!=4.21.5,<5.0.0dev,>=3.19.5, but you have protobuf 5.27.1 which is incompatible.\n",
            "google-cloud-bigquery-storage 2.25.0 requires protobuf!=3.20.0,!=3.20.1,!=4.21.0,!=4.21.1,!=4.21.2,!=4.21.3,!=4.21.4,!=4.21.5,<5.0.0dev,>=3.19.5, but you have protobuf 5.27.1 which is incompatible.\n",
            "google-cloud-datastore 2.15.2 requires protobuf!=3.20.0,!=3.20.1,!=4.21.0,!=4.21.1,!=4.21.2,!=4.21.3,!=4.21.4,!=4.21.5,<5.0.0dev,>=3.19.5, but you have protobuf 5.27.1 which is incompatible.\n",
            "google-cloud-firestore 2.11.1 requires protobuf!=3.20.0,!=3.20.1,!=4.21.0,!=4.21.1,!=4.21.2,!=4.21.3,!=4.21.4,!=4.21.5,<5.0.0dev,>=3.19.5, but you have protobuf 5.27.1 which is incompatible.\n",
            "google-cloud-functions 1.13.3 requires protobuf!=3.20.0,!=3.20.1,!=4.21.0,!=4.21.1,!=4.21.2,!=4.21.3,!=4.21.4,!=4.21.5,<5.0.0dev,>=3.19.5, but you have protobuf 5.27.1 which is incompatible.\n",
            "google-cloud-iam 2.15.0 requires protobuf!=3.20.0,!=3.20.1,!=4.21.0,!=4.21.1,!=4.21.2,!=4.21.3,!=4.21.4,!=4.21.5,<5.0.0dev,>=3.19.5, but you have protobuf 5.27.1 which is incompatible.\n",
            "google-cloud-language 2.13.3 requires protobuf!=3.20.0,!=3.20.1,!=4.21.0,!=4.21.1,!=4.21.2,!=4.21.3,!=4.21.4,!=4.21.5,<5.0.0dev,>=3.19.5, but you have protobuf 5.27.1 which is incompatible.\n",
            "google-cloud-resource-manager 1.12.3 requires protobuf!=3.20.0,!=3.20.1,!=4.21.0,!=4.21.1,!=4.21.2,!=4.21.3,!=4.21.4,!=4.21.5,<5.0.0dev,>=3.19.5, but you have protobuf 5.27.1 which is incompatible.\n",
            "google-cloud-translate 3.11.3 requires protobuf!=3.20.0,!=3.20.1,!=4.21.0,!=4.21.1,!=4.21.2,!=4.21.3,!=4.21.4,!=4.21.5,<5.0.0dev,>=3.19.5, but you have protobuf 5.27.1 which is incompatible.\n",
            "grpc-google-iam-v1 0.13.0 requires protobuf!=3.20.0,!=3.20.1,!=4.21.1,!=4.21.2,!=4.21.3,!=4.21.4,!=4.21.5,<5.0.0dev,>=3.19.5, but you have protobuf 5.27.1 which is incompatible.\n",
            "tensorflow 2.15.0 requires protobuf!=4.21.0,!=4.21.1,!=4.21.2,!=4.21.3,!=4.21.4,!=4.21.5,<5.0.0dev,>=3.20.3, but you have protobuf 5.27.1 which is incompatible.\n",
            "tensorflow-metadata 1.15.0 requires protobuf<4.21,>=3.20.3; python_version < \"3.11\", but you have protobuf 5.27.1 which is incompatible.\u001b[0m\u001b[31m\n",
>>>>>>> upstream/main
            "\u001b[0m"
          ]
        }
      ],
      "source": [
        "!pip install -qU llama-index-vector-stores-qdrant qdrant-client"
      ]
    },
    {
      "cell_type": "markdown",
      "metadata": {
        "id": "wNHDqna1P1NQ"
      },
      "source": [
        "Finally, we'll need to grab a few dependencies related to our quantitative data!"
      ]
    },
    {
      "cell_type": "code",
<<<<<<< HEAD
      "execution_count": 16,
=======
      "execution_count": 5,
>>>>>>> upstream/main
      "metadata": {
        "colab": {
          "base_uri": "https://localhost:8080/"
        },
        "id": "BrT8a3c0SV__",
        "outputId": "e2d2756c-ac09-46ff-f9ea-35812f290c1b"
      },
<<<<<<< HEAD
      "outputs": [],
=======
      "outputs": [
        {
          "name": "stdout",
          "output_type": "stream",
          "text": [
            "\u001b[2K     \u001b[90m━━━━━━━━━━━━━━━━━━━━━━━━━━━━━━━━━━━━━━━━\u001b[0m \u001b[32m13.0/13.0 MB\u001b[0m \u001b[31m27.2 MB/s\u001b[0m eta \u001b[36m0:00:00\u001b[0m\n",
            "\u001b[?25h\u001b[31mERROR: pip's dependency resolver does not currently take into account all the packages that are installed. This behaviour is the source of the following dependency conflicts.\n",
            "cudf-cu12 24.4.1 requires pandas<2.2.2dev0,>=2.0, but you have pandas 2.2.2 which is incompatible.\n",
            "cudf-cu12 24.4.1 requires protobuf<5,>=3.20, but you have protobuf 5.27.1 which is incompatible.\n",
            "google-colab 1.0.0 requires pandas==2.0.3, but you have pandas 2.2.2 which is incompatible.\u001b[0m\u001b[31m\n",
            "\u001b[0m"
          ]
        }
      ],
>>>>>>> upstream/main
      "source": [
        "!pip install -q -U sqlalchemy pandas"
      ]
    },
    {
      "cell_type": "markdown",
      "metadata": {
        "id": "SS3I4FUabE-g"
      },
      "source": [
        "We'll can use [Weights and Biases](https://docs.wandb.ai/guides/prompts) (WandB) as a visibility platform, as well as storing our index!"
      ]
    },
    {
      "cell_type": "code",
<<<<<<< HEAD
      "execution_count": 17,
=======
      "execution_count": 6,
>>>>>>> upstream/main
      "metadata": {
        "colab": {
          "base_uri": "https://localhost:8080/"
        },
        "id": "9UcQpjG9Ovlk",
        "outputId": "627914fd-6f08-4d85-8bfb-7a8d4cae950a"
      },
      "outputs": [
        {
          "name": "stdout",
          "output_type": "stream",
          "text": [
<<<<<<< HEAD
            "\u001b[31mERROR: pip's dependency resolver does not currently take into account all the packages that are installed. This behaviour is the source of the following dependency conflicts.\n",
            "grpcio-tools 1.64.1 requires protobuf<6.0dev,>=5.26.1, but you have protobuf 4.25.3 which is incompatible.\u001b[0m\u001b[31m\n",
=======
            "\u001b[2K     \u001b[90m━━━━━━━━━━━━━━━━━━━━━━━━━━━━━━━━━━━━━━━━\u001b[0m \u001b[32m6.9/6.9 MB\u001b[0m \u001b[31m19.2 MB/s\u001b[0m eta \u001b[36m0:00:00\u001b[0m\n",
            "\u001b[2K     \u001b[90m━━━━━━━━━━━━━━━━━━━━━━━━━━━━━━━━━━━━━━━━\u001b[0m \u001b[32m207.3/207.3 kB\u001b[0m \u001b[31m7.9 MB/s\u001b[0m eta \u001b[36m0:00:00\u001b[0m\n",
            "\u001b[2K     \u001b[90m━━━━━━━━━━━━━━━━━━━━━━━━━━━━━━━━━━━━━━━━\u001b[0m \u001b[32m296.1/296.1 kB\u001b[0m \u001b[31m9.8 MB/s\u001b[0m eta \u001b[36m0:00:00\u001b[0m\n",
            "\u001b[2K     \u001b[90m━━━━━━━━━━━━━━━━━━━━━━━━━━━━━━━━━━━━━━━━\u001b[0m \u001b[32m2.2/2.2 MB\u001b[0m \u001b[31m38.1 MB/s\u001b[0m eta \u001b[36m0:00:00\u001b[0m\n",
            "\u001b[2K     \u001b[90m━━━━━━━━━━━━━━━━━━━━━━━━━━━━━━━━━━━━━━━━\u001b[0m \u001b[32m294.6/294.6 kB\u001b[0m \u001b[31m19.7 MB/s\u001b[0m eta \u001b[36m0:00:00\u001b[0m\n",
            "\u001b[2K     \u001b[90m━━━━━━━━━━━━━━━━━━━━━━━━━━━━━━━━━━━━━━━━\u001b[0m \u001b[32m62.7/62.7 kB\u001b[0m \u001b[31m4.2 MB/s\u001b[0m eta \u001b[36m0:00:00\u001b[0m\n",
            "\u001b[?25h\u001b[31mERROR: pip's dependency resolver does not currently take into account all the packages that are installed. This behaviour is the source of the following dependency conflicts.\n",
            "cudf-cu12 24.4.1 requires pandas<2.2.2dev0,>=2.0, but you have pandas 2.2.2 which is incompatible.\n",
            "grpcio-tools 1.64.1 requires protobuf<6.0dev,>=5.26.1, but you have protobuf 4.25.3 which is incompatible.\n",
            "tensorflow-metadata 1.15.0 requires protobuf<4.21,>=3.20.3; python_version < \"3.11\", but you have protobuf 4.25.3 which is incompatible.\u001b[0m\u001b[31m\n",
>>>>>>> upstream/main
            "\u001b[0m"
          ]
        }
      ],
      "source": [
        "!pip install -qU wandb llama-index-callbacks-wandb"
      ]
    },
    {
      "cell_type": "code",
<<<<<<< HEAD
      "execution_count": 18,
=======
      "execution_count": 7,
>>>>>>> upstream/main
      "metadata": {
        "colab": {
          "base_uri": "https://localhost:8080/"
        },
        "id": "4OHSwkDySV_-",
        "outputId": "f7f84329-d284-464d-94ed-7a5e1942bc39"
      },
<<<<<<< HEAD
      "outputs": [],
=======
      "outputs": [
        {
          "name": "stdout",
          "output_type": "stream",
          "text": [
            "WandB API Key: ··········\n"
          ]
        }
      ],
>>>>>>> upstream/main
      "source": [
        "import os\n",
        "import getpass\n",
        "\n",
        "os.environ[\"WANDB_API_KEY\"] = getpass.getpass(\"WandB API Key: \")"
      ]
    },
    {
      "cell_type": "markdown",
      "metadata": {
        "id": "Ut8E447rQBjY"
      },
      "source": [
        "We'll also need to set a callback handler for WandB to ensure smooth operation of our traces!"
      ]
    },
    {
      "cell_type": "code",
<<<<<<< HEAD
      "execution_count": 19,
=======
      "execution_count": 8,
>>>>>>> upstream/main
      "metadata": {
        "colab": {
          "base_uri": "https://localhost:8080/",
          "height": 69
        },
        "id": "MoV2JINuSV_-",
        "outputId": "22e4dabd-6274-4180-dbe3-37c2b8b0212e"
      },
<<<<<<< HEAD
      "outputs": [],
=======
      "outputs": [
        {
          "name": "stderr",
          "output_type": "stream",
          "text": [
            "\u001b[34m\u001b[1mwandb\u001b[0m: Streaming LlamaIndex events to W&B at https://wandb.ai/chrisalexiuk/llama-index-rag-v1/runs/48js8m4z\n",
            "\u001b[34m\u001b[1mwandb\u001b[0m: `WandbCallbackHandler` is currently in beta.\n",
            "\u001b[34m\u001b[1mwandb\u001b[0m: Please report any issues to https://github.com/wandb/wandb/issues with the tag `llamaindex`.\n"
          ]
        }
      ],
>>>>>>> upstream/main
      "source": [
        "import llama_index\n",
        "from llama_index.core import set_global_handler\n",
        "\n",
        "set_global_handler(\"wandb\", run_args={\"project\": \"llama-index-rag-v1\"})\n",
        "wandb_callback = llama_index.core.global_handler"
      ]
    },
    {
      "cell_type": "markdown",
      "metadata": {
        "id": "ibtguieHP6n1"
      },
      "source": [
        "## Task 2: Set Env Variables and Set Up WandB Callback\n",
        "\n",
        "Let's set our API keys for both OpenAI and WandB!"
      ]
    },
    {
      "cell_type": "code",
<<<<<<< HEAD
      "execution_count": 20,
=======
      "execution_count": 22,
>>>>>>> upstream/main
      "metadata": {
        "colab": {
          "base_uri": "https://localhost:8080/"
        },
        "id": "7IBgMTPTSV_9",
<<<<<<< HEAD
        "outputId": "86510c6f-0388-48bb-d814-97f843b3f366"
      },
      "outputs": [],
=======
        "outputId": "5a4f09d7-997a-4b65-b0fb-bb05b5d09327"
      },
      "outputs": [
        {
          "name": "stdout",
          "output_type": "stream",
          "text": [
            "OpenAI API Key: ··········\n"
          ]
        }
      ],
>>>>>>> upstream/main
      "source": [
        "import os\n",
        "import getpass\n",
        "\n",
        "os.environ[\"OPENAI_API_KEY\"] = getpass.getpass(\"OpenAI API Key: \")"
      ]
    },
    {
      "cell_type": "markdown",
      "metadata": {
        "id": "aTKRJ9FaA1U1"
      },
      "source": [
        "### OPTIONAL ADVANCED PATH:\n",
        "\n",
        "Instead of OpenAI - you could use Anthropic's new Claude model `Sonnet 3.5`!\n",
        "\n",
        "Let's see how the flow might be different if you wanted to use the latest and greatest from Anthropic!\n",
        "\n",
        "> NOTE: You will need an [API Key](https://www.anthropic.com/news/claude-3-5-sonnet) for `Sonnet 3.5` for the following cells to work!"
      ]
    },
    {
      "cell_type": "code",
<<<<<<< HEAD
      "execution_count": 21,
      "metadata": {
        "id": "tIC5feHeCN53"
      },
      "outputs": [],
=======
      "execution_count": 9,
      "metadata": {
        "colab": {
          "base_uri": "https://localhost:8080/"
        },
        "id": "tIC5feHeCN53",
        "outputId": "7064c967-c4cc-4d92-a463-3794cefd3879"
      },
      "outputs": [
        {
          "name": "stdout",
          "output_type": "stream",
          "text": [
            "\u001b[2K     \u001b[90m━━━━━━━━━━━━━━━━━━━━━━━━━━━━━━━━━━━━━━━━\u001b[0m \u001b[32m862.7/862.7 kB\u001b[0m \u001b[31m6.9 MB/s\u001b[0m eta \u001b[36m0:00:00\u001b[0m\n",
            "\u001b[?25h"
          ]
        }
      ],
>>>>>>> upstream/main
      "source": [
        "# OPTIONAL ADVANCED PATH\n",
        "!pip install -qU llama-index-llms-anthropic"
      ]
    },
    {
      "cell_type": "code",
<<<<<<< HEAD
      "execution_count": 22,
=======
      "execution_count": 17,
>>>>>>> upstream/main
      "metadata": {
        "colab": {
          "base_uri": "https://localhost:8080/"
        },
        "id": "QEQ6oIOeCWJ4",
<<<<<<< HEAD
        "outputId": "4b4eb456-7bba-4fe7-f55b-bd3cba6df860"
      },
      "outputs": [],
=======
        "outputId": "377e77a2-2f27-4c04-819d-0e101961a606"
      },
      "outputs": [
        {
          "name": "stdout",
          "output_type": "stream",
          "text": [
            "Anthropic API Key: ··········\n"
          ]
        }
      ],
>>>>>>> upstream/main
      "source": [
        "# OPTIONAL ADVANCED PATH\n",
        "os.environ[\"ANTHROPIC_API_KEY\"] = getpass.getpass(\"Anthropic API Key: \")"
      ]
    },
    {
      "cell_type": "code",
<<<<<<< HEAD
      "execution_count": 23,
=======
      "execution_count": 18,
>>>>>>> upstream/main
      "metadata": {
        "id": "yZC0Jav4CDDl"
      },
      "outputs": [],
      "source": [
        "# OPTIONAL ADVANCED PATH\n",
        "from llama_index.llms.anthropic import Anthropic\n",
        "from llama_index.core import Settings\n",
        "\n",
<<<<<<< HEAD
        "Settings.llm = Anthropic(model=\"claude-3-sonnet-20240229\")"
=======
        "Settings.llm = Anthropic(model=\"claude-3-5-sonnet-20240620\")"
>>>>>>> upstream/main
      ]
    },
    {
      "cell_type": "markdown",
      "metadata": {
        "id": "UQwigweOSV_-"
      },
      "source": [
        "## Task 3: Settings\n",
        "\n",
        "LlamaIndex lets us set global settings which we can use to influence the default behaviour of our components.\n",
        "\n",
        "Let's set our LLM and our Embedding Model!"
      ]
    },
    {
      "cell_type": "code",
<<<<<<< HEAD
      "execution_count": 26,
=======
      "execution_count": 15,
>>>>>>> upstream/main
      "metadata": {
        "id": "6KOy21KPSV_-"
      },
      "outputs": [],
      "source": [
        "from llama_index.llms.openai import OpenAI\n",
<<<<<<< HEAD
        "from llama_index.embeddings.openai import OpenAIEmbedding\n",
=======
>>>>>>> upstream/main
        "from llama_index.core import Settings\n",
        "\n",
        "Settings.llm = OpenAI(model=\"gpt-4o\")"
      ]
    },
    {
      "cell_type": "code",
<<<<<<< HEAD
      "execution_count": 27,
=======
      "execution_count": 14,
>>>>>>> upstream/main
      "metadata": {
        "id": "dHWYyjG7C2OA"
      },
      "outputs": [],
      "source": [
<<<<<<< HEAD
=======
        "from llama_index.embeddings.openai import OpenAIEmbedding\n",
>>>>>>> upstream/main
        "Settings.embedding = OpenAIEmbedding(model=\"text-embedding-3-small\")"
      ]
    },
    {
      "cell_type": "markdown",
      "metadata": {
        "id": "eiOdw7EQSV_-"
      },
      "source": [
        "## Task 4: `Index` Creation\n",
        "\n",
        "In order for us to perform RAG in the traditional sense - we need an `Index`.\n",
        "\n",
        "So what is an `Index`? Well - let's see how LlamaIndex defines it:\n",
        "\n",
        "> In LlamaIndex terms, an `Index` is a data structure composed of Document objects, designed to enable querying by an LLM. Your Index is designed to be complementary to your querying strategy.\n",
        "\n",
        "Okay, so we know that we have a boatload of Wikipedia content - and we know that we want to be able to query the `Index` and receive documents that are related to our query - so let's use an `Index` built on the idea of embedding-vectors.\n",
        "\n",
        "Introducing: `VectorStoreIndex`!\n",
        "\n",
        "Again, let's see how LlamaIndex defines this:\n",
        "\n",
        "> A `VectorStoreIndex` is by far the most frequent type of `Index` you'll encounter. The Vector Store Index takes your Documents and splits them up into Nodes. It then creates `vector` embeddings of the text of every node, ready to be queried by an LLM.\n",
        "\n",
        "Alright, that sounds awesome - let's make one!"
      ]
    },
    {
      "cell_type": "markdown",
      "metadata": {
        "id": "iDEtQQWnSV_-"
      },
      "source": [
        "### Data Collection\n",
        "\n",
        "We're just going to be pulling information straight from Wikipedia using the built in `WikipediaReader`.\n",
        "\n",
        "> NOTE: Setting `auto_suggest=False` ensures we run into fewer auto-correct based errors."
      ]
    },
    {
      "cell_type": "markdown",
      "metadata": {
        "id": "vcvGuykZSV_8"
      },
      "source": [
        "### A note on terminology:\n",
        "\n",
        "You'll notice that there are quite a few similarities between LangChain and LlamaIndex. LlamaIndex can largely be thought of as an extension to LangChain, in some ways - but they moved some of the language around. Let's spend a few moments disambiguating the language.\n",
        "\n",
        "- `QueryEngine` -> `LCEL Chain`:\n",
        "  -  `QueryEngine` is just LlamaIndex's way of indicating something is an LLM \"chain\" on top of a retrieval system\n",
        "- `OpenAIAgent` vs. `Agent`:\n",
        "  - The two agents have the same fundamental pattern: Decide which of a list of tools to use to answer a user's query.\n",
        "  - `OpenAIAgent` (LlamaIndex's primary agent) does not need to rely on an agent excecutor due to the fact that it is leveraging OpenAI's [functional api](https://openai.com/blog/function-calling-and-other-api-updates) which allows the agent to interface \"directly\" with the tools instead of operating through an intermediary application process.\n",
        "\n",
        "There is, however, a much large terminological difference when it comes to discussing data.\n",
        "\n",
        "##### Nodes vs. Documents\n",
        "\n",
        "As you're aware of from the previous weeks assignments, there's an idea of `documents` in NLP which refers to text objects that exist within a corpus of documents.\n",
        "\n",
        "LlamaIndex takes this a step further and reclassifies `documents` as `nodes`. Confusingly, it refers to the `Source Document` as simply `Documents`.\n",
        "\n",
        "The `Document` -> `node` structure is, almost exactly, equivalent to the `Source Document` -> `Document` structure found in LangChain - but the new terminology comes with some clarity about different structure-indices.\n",
        "\n",
        "We won't be leveraging those structured indicies today, but we will be leveraging a \"benefit\" of the `node` structure that exists as a default in LlamaIndex, which is the ability to quickly filter nodes based on their metadata.\n",
        "\n",
        "![image](https://i.imgur.com/B1QDjs5.png)"
      ]
    },
    {
      "cell_type": "code",
<<<<<<< HEAD
      "execution_count": 28,
=======
      "execution_count": 19,
>>>>>>> upstream/main
      "metadata": {
        "id": "OrzzrnYMSV_-"
      },
      "outputs": [],
      "source": [
        "from llama_index.readers.wikipedia import WikipediaReader\n",
        "\n",
        "movie_list = [\n",
        "    \"Dune (2021 film)\",\n",
        "    \"Dune: Part Two\",\n",
        "    \"The Lord of the Rings: The Fellowship of the Ring\",\n",
        "    \"The Lord of the Rings: The Two Towers\",\n",
        "]\n",
        "\n",
        "wiki_docs = WikipediaReader().load_data(pages=movie_list, auto_suggest=False)"
      ]
    },
    {
      "cell_type": "markdown",
      "metadata": {
        "id": "-6FRQ4hfSV_-"
      },
      "source": [
        "### Initializing our `VectorStoreIndex` with QDrant\n",
        "\n",
        "QDrant is a locally hostable and open-source vector database solution.\n",
        "\n",
        "It offers powerful features like metadata filtering out of the box, and will suit our needs well today!\n",
        "\n",
        "We'll start by creating our local `:memory:` client (in-memory and not meant for production use-cases) and our collection."
      ]
    },
    {
      "cell_type": "code",
<<<<<<< HEAD
      "execution_count": 29,
=======
      "execution_count": 20,
>>>>>>> upstream/main
      "metadata": {
        "colab": {
          "base_uri": "https://localhost:8080/"
        },
        "id": "b1ut96aSEVwY",
<<<<<<< HEAD
        "outputId": "2a30fe9e-21ef-4738-c0af-d74cbb865c31"
=======
        "outputId": "0e3850e1-c208-44a8-caa9-84735c3a9d04"
>>>>>>> upstream/main
      },
      "outputs": [
        {
          "data": {
            "text/plain": [
              "True"
            ]
          },
<<<<<<< HEAD
          "execution_count": 29,
=======
          "execution_count": 20,
>>>>>>> upstream/main
          "metadata": {},
          "output_type": "execute_result"
        }
      ],
      "source": [
        "from llama_index.vector_stores.qdrant import QdrantVectorStore\n",
        "from qdrant_client import QdrantClient, models\n",
        "\n",
        "client = QdrantClient(location=\":memory:\")\n",
        "\n",
        "client.create_collection(\n",
        "    collection_name=\"movie_wikis\",\n",
        "    vectors_config=models.VectorParams(size=1536, distance=models.Distance.COSINE)\n",
        ")"
      ]
    },
    {
      "cell_type": "markdown",
      "metadata": {
        "id": "Fa3mbrfGnkCk"
      },
      "source": [
        "Then we'll create our `VectorStore` and `StorageContext` which will allow us to create an empty `VectorStoreIndex` which we will be able to add nodes to later!"
      ]
    },
    {
      "cell_type": "code",
<<<<<<< HEAD
      "execution_count": 30,
      "metadata": {
        "id": "lZ5xilm1SV_-"
=======
      "execution_count": 23,
      "metadata": {
        "colab": {
          "base_uri": "https://localhost:8080/"
        },
        "id": "lZ5xilm1SV_-",
        "outputId": "10fe2ebc-3022-4742-92f7-b5eb7d281bcc"
>>>>>>> upstream/main
      },
      "outputs": [
        {
          "name": "stderr",
          "output_type": "stream",
          "text": [
            "\u001b[34m\u001b[1mwandb\u001b[0m: Logged trace tree to W&B.\n"
          ]
        }
      ],
      "source": [
        "from llama_index.core import VectorStoreIndex\n",
        "from llama_index.core import StorageContext\n",
        "\n",
        "vector_store = QdrantVectorStore(client=client, collection_name=\"movie_wikis\")\n",
        "\n",
        "storage_context = StorageContext.from_defaults(vector_store=vector_store)\n",
        "\n",
        "index = VectorStoreIndex.from_documents(\n",
        "    [],\n",
        "    storage_context=storage_context,\n",
        ")"
      ]
    },
    {
      "cell_type": "markdown",
      "metadata": {
        "id": "6qtzVDelSV_-"
      },
      "source": [
        "### Node Construction\n",
        "\n",
        "Now we will loop through our documents and metadata and construct nodes.\n",
        "\n",
        "We'll make sure to explicitly associate our nodes with their respective movie so we can filter by the movie title in the upcoming cells.\n",
        "\n",
        "You might be thinking to yourself - wait, we never indicated which embedding model this should use - but remember"
      ]
    },
    {
      "cell_type": "code",
<<<<<<< HEAD
      "execution_count": 31,
      "metadata": {
        "id": "LP4INgSGSV_-"
      },
      "outputs": [
        {
          "name": "stdout",
          "output_type": "stream",
          "text": [
            "INFO:httpx:HTTP Request: POST https://api.openai.com/v1/embeddings \"HTTP/1.1 200 OK\"\n",
            "HTTP Request: POST https://api.openai.com/v1/embeddings \"HTTP/1.1 200 OK\"\n",
            "HTTP Request: POST https://api.openai.com/v1/embeddings \"HTTP/1.1 200 OK\"\n"
          ]
        },
        {
          "name": "stderr",
          "output_type": "stream",
          "text": [
            "\u001b[34m\u001b[1mwandb\u001b[0m: Logged trace tree to W&B.\n"
          ]
        },
        {
          "name": "stdout",
          "output_type": "stream",
          "text": [
            "INFO:httpx:HTTP Request: POST https://api.openai.com/v1/embeddings \"HTTP/1.1 200 OK\"\n",
            "HTTP Request: POST https://api.openai.com/v1/embeddings \"HTTP/1.1 200 OK\"\n",
            "HTTP Request: POST https://api.openai.com/v1/embeddings \"HTTP/1.1 200 OK\"\n"
          ]
        },
        {
          "name": "stderr",
          "output_type": "stream",
          "text": [
            "\u001b[34m\u001b[1mwandb\u001b[0m: Logged trace tree to W&B.\n"
          ]
        },
        {
          "name": "stdout",
          "output_type": "stream",
          "text": [
            "INFO:httpx:HTTP Request: POST https://api.openai.com/v1/embeddings \"HTTP/1.1 200 OK\"\n",
            "HTTP Request: POST https://api.openai.com/v1/embeddings \"HTTP/1.1 200 OK\"\n",
            "HTTP Request: POST https://api.openai.com/v1/embeddings \"HTTP/1.1 200 OK\"\n"
          ]
        },
        {
          "name": "stderr",
          "output_type": "stream",
          "text": [
            "\u001b[34m\u001b[1mwandb\u001b[0m: Logged trace tree to W&B.\n"
          ]
        },
        {
          "name": "stdout",
          "output_type": "stream",
          "text": [
            "INFO:httpx:HTTP Request: POST https://api.openai.com/v1/embeddings \"HTTP/1.1 200 OK\"\n",
            "HTTP Request: POST https://api.openai.com/v1/embeddings \"HTTP/1.1 200 OK\"\n",
            "HTTP Request: POST https://api.openai.com/v1/embeddings \"HTTP/1.1 200 OK\"\n"
          ]
        },
        {
          "name": "stderr",
          "output_type": "stream",
          "text": [
=======
      "execution_count": 24,
      "metadata": {
        "colab": {
          "base_uri": "https://localhost:8080/"
        },
        "id": "LP4INgSGSV_-",
        "outputId": "63922a24-1c10-47cc-9b1d-f0982066f8fd"
      },
      "outputs": [
        {
          "name": "stderr",
          "output_type": "stream",
          "text": [
            "\u001b[34m\u001b[1mwandb\u001b[0m: Logged trace tree to W&B.\n",
            "\u001b[34m\u001b[1mwandb\u001b[0m: Logged trace tree to W&B.\n",
            "\u001b[34m\u001b[1mwandb\u001b[0m: Logged trace tree to W&B.\n",
>>>>>>> upstream/main
            "\u001b[34m\u001b[1mwandb\u001b[0m: Logged trace tree to W&B.\n"
          ]
        }
      ],
      "source": [
        "from llama_index.core import SimpleDirectoryReader\n",
        "from llama_index.core.ingestion import IngestionPipeline\n",
        "from llama_index.core.node_parser import TokenTextSplitter\n",
        "from llama_index.core.extractors import TitleExtractor\n",
        "\n",
        "pipeline = IngestionPipeline(transformations=[TokenTextSplitter()])\n",
        "\n",
        "for movie, wiki_doc in zip(movie_list, wiki_docs):\n",
        "  nodes = pipeline.run(documents=[wiki_doc])\n",
        "  for node in nodes:\n",
        "      node.metadata = {\"title\" : movie}\n",
        "  index.insert_nodes(nodes)"
      ]
    },
    {
      "cell_type": "markdown",
      "metadata": {
        "id": "biVzC-I4UAmB"
      },
      "source": [
        "####❓ Question #1:\n",
        "\n",
        "What `metadata` fields will the nodes in our index have?\n",
        "\n",
<<<<<<< HEAD
        "Title\n",
        "\n",
        "\n",
=======
>>>>>>> upstream/main
        "> You will need to write code to find this information"
      ]
    },
    {
      "cell_type": "code",
<<<<<<< HEAD
      "execution_count": 46,
      "metadata": {
        "id": "mt1lhxEnUKxO"
      },
      "outputs": [
        {
          "data": {
            "text/plain": [
              "[TextNode(id_='65ae066b-d9c4-480e-b59b-037041166658', embedding=None, metadata={'title': 'The Lord of the Rings: The Two Towers'}, excluded_embed_metadata_keys=[], excluded_llm_metadata_keys=[], relationships={<NodeRelationship.SOURCE: '1'>: RelatedNodeInfo(node_id='173944', node_type=<ObjectType.DOCUMENT: '4'>, metadata={}, hash='8a964a8be15461f84f36562053150f9d13018b43812e308b8610f23e1fe866b9'), <NodeRelationship.NEXT: '3'>: RelatedNodeInfo(node_id='166b613a-509c-4481-b271-7516eab4c28b', node_type=<ObjectType.TEXT: '1'>, metadata={}, hash='3ebc9a4363c0f8d42343af843693867dc8c2a88ceef65c44fa7d0b75be7153be')}, text=\"The Lord of the Rings: The Two Towers is a 2002 epic high fantasy adventure film directed by Peter Jackson from a screenplay by Fran Walsh, Philippa Boyens, Stephen Sinclair, and Jackson, based on 1954's The Two Towers, the second volume of the novel The Lord of the Rings by J. R. R. Tolkien. The sequel to 2001's The Lord of the Rings: The Fellowship of the Ring, the film is the second instalment in The Lord of the Rings trilogy. It features an ensemble cast including Elijah Wood, Ian McKellen, Liv Tyler, Viggo Mortensen, Sean Astin, Cate Blanchett, John Rhys-Davies, Bernard Hill, Christopher Lee, Billy Boyd, Dominic Monaghan, Orlando Bloom, Hugo Weaving, Miranda Otto, David Wenham, Brad Dourif, Karl Urban, and Andy Serkis.\\nContinuing the plot of the previous film, it intercuts three storylines: Frodo and Sam continue their journey towards Mordor to destroy the One Ring, now aided by Gollum, the ring's untrustworthy former bearer. Merry and Pippin escape their orc captors, meet Treebeard the Ent, and help to plan an attack on Isengard, fortress of Saruman. Aragorn, Legolas, and Gimli, in their pursuit, come to the war-torn nation of Rohan, and are reunited with the resurrected Gandalf before fighting against the legions of the treacherous wizard Saruman at the Battle of Helm's Deep. \\nThe Two Towers was financed and distributed by American studio New Line Cinema, but filmed and edited entirely in Jackson's native New Zealand, concurrently with the other two parts of the trilogy. It premiered on 5 December 2002 at the Ziegfeld Theatre in New York City, and was then released on 18 December in the United States and on 19 December in New Zealand. The film was acclaimed by both critics and audiences, who considered it to be a landmark in filmmaking and an achievement in the fantasy film genre. It received praise for its direction, action sequences, performances, musical score, and visual effects, particularly for Gollum. It grossed over $936 million worldwide during its original theatrical run, making it the highest-grossing film of 2002, and, at the time of its release, the third highest-grossing film of all time behind Titanic and Harry Potter and the Philosopher's Stone. Following subsequent re-releases, it has grossed $951 million.\\nLike the other films in the trilogy, The Two Towers is widely recognised as one of the greatest and most influential films ever made as well as one of the greatest sequels in cinema history. The film received numerous accolades; at the 75th Academy Awards, it was nominated for six awards, including Best Picture, winning for Best Sound Editing and Best Visual Effects.\\nThe final instalment of the trilogy, The Return of the King, was released in 2003.\\n\\n\\n== Plot ==\\nAwakening from a dream of Gandalf fighting the Balrog in Moria, Frodo Baggins finds himself, along with Samwise Gamgee, lost in the Emyn Muil near Mordor. They discover that they are being tracked by Gollum, a former bearer of the One Ring. Capturing Gollum, Frodo takes pity and allows him to guide them, reminding Sam that they will need Gollum's help to infiltrate Mordor.\\nAragorn, Legolas, and Gimli pursue a band of Uruk-hai to save their companions Merry and Pippin, entering the kingdom of Rohan. The Uruk-hai are ambushed by a group of Rohirrim, allowing Merry and Pippin to escape into Fangorn Forest. Meeting Aragorn's group, the Rohirrim's leader Éomer explains that he and his men have been exiled by Rohan's king, Théoden, who is under the control of Saruman and his servant Gríma Wormtongue. Éomer believes Merry and Pippin were killed during the raid but leaves the group two horses. In Fangorn, Aragorn's group encounters Gandalf, who after his fight against the Balrog was resurrected as Gandalf the White to help save Middle-earth.\\nGandalf leads the trio to Rohan's capital, Edoras, where Gandalf frees Théoden from Saruman's control. Aragorn stops Théoden from executing Wormtongue, who flees. Learning of Saruman's plans to destroy Rohan with his Uruk-hai army, Théoden evacuates his citizens to the fortress of the Hornburg at Helm's Deep. Gandalf departs to find Éomer and his followers, hoping they will fight for their restored king. Aragorn befriends Théoden's niece, Éowyn, who becomes infatuated with\", mimetype='text/plain', start_char_idx=0, end_char_idx=4263, text_template='{metadata_str}\\n\\n{content}', metadata_template='{key}: {value}', metadata_seperator='\\n'),\n",
              " TextNode(id_='166b613a-509c-4481-b271-7516eab4c28b', embedding=None, metadata={'title': 'The Lord of the Rings: The Two Towers'}, excluded_embed_metadata_keys=[], excluded_llm_metadata_keys=[], relationships={<NodeRelationship.SOURCE: '1'>: RelatedNodeInfo(node_id='173944', node_type=<ObjectType.DOCUMENT: '4'>, metadata={}, hash='8a964a8be15461f84f36562053150f9d13018b43812e308b8610f23e1fe866b9'), <NodeRelationship.PREVIOUS: '2'>: RelatedNodeInfo(node_id='65ae066b-d9c4-480e-b59b-037041166658', node_type=<ObjectType.TEXT: '1'>, metadata={}, hash='f707d092c3f93b794eb4d85ca753bfb9d2789dab3a5f9a21ba4153871410c188'), <NodeRelationship.NEXT: '3'>: RelatedNodeInfo(node_id='ebacb9aa-4baf-4c6a-88f4-29b9e85f37f7', node_type=<ObjectType.TEXT: '1'>, metadata={}, hash='70ea0f4cc420e685b68520104ea0ad85fc7f2db73d6b589f81c63e61378bc814')}, text='befriends Théoden\\'s niece, Éowyn, who becomes infatuated with him. When the refugees travelling to Helm\\'s Deep are attacked by Saruman\\'s Warg-riding Orcs, Aragorn falls from a cliff and is presumed dead. He is found by Théodred\\'s horse Brego and rides to Helm\\'s Deep, witnessing Saruman\\'s army marching toward the fortress.\\nIn Rivendell, Arwen is told by her father Elrond that Aragorn will not return. He reminds her that if she remains in Middle-earth, she will outlive Aragorn by thousands of years, and she reluctantly departs for Valinor. Elrond is contacted by Galadriel of Lothlórien, who convinces him that the Elves should honour their alliance to men, and they dispatch a company of Elves to Helm\\'s Deep.\\nIn Fangorn, Merry and Pippin meet Treebeard, an Ent. Convincing Treebeard that they are allies, they are brought to an Ent Council, where the Ents decide not to take part in the coming war. Pippin asks Treebeard to take them in the direction of Isengard, where they witness the deforestation caused by Saruman\\'s war effort. Enraged, Treebeard and the Ents storm Isengard, trapping Saruman in his tower.\\nAragorn arrives at Helm\\'s Deep, warning Théoden of Saruman\\'s army approaching. Théoden prepares for battle despite being vastly outnumbered. A company of Lothlorien Elves arrives to aid the people of Rohan, shortly before Saruman\\'s army attacks the fortress. The Uruk-hai breach the outer wall with explosives and during the ensuing charge, kill the Elves\\' commander, Haldir. The defenders retreat into the keep, where Aragorn convinces Théoden to meet the Uruk-hai in one last charge. At dawn, as the defenders are overwhelmed, Gandalf and Éomer arrive with the Rohirrim, turning the tide of the battle. The surviving Uruk-hai flee into Fangorn Forest and are killed by the trees. Gandalf warns that Sauron will retaliate.\\nGollum leads Frodo and Sam through the Dead Marshes to the Black Gate, but recommends they enter Mordor by another route. Frodo and Sam are captured by Rangers of Ithilien led by Faramir, younger brother of the late Boromir. Frodo helps Faramir catch Gollum to save him from being killed by the Rangers. Learning of the One Ring, Faramir takes his captives to Gondor to bring the Ring to his father Denethor. Passing through the besieged city of Osgiliath, Frodo tries to explain to Faramir the true nature of the Ring, and Sam explains that Boromir was driven mad by its power. A Nazgûl nearly captures Frodo, who falls under the Ring\\'s power, but Sam saves him and reminds a disheartened Frodo that they are fighting for the good still left in Middle-earth. Impressed by Frodo\\'s resolve, Faramir releases them. Feeling betrayed by his capture, Gollum decides he will reclaim the Ring by leading Frodo to \"her\" upon arriving at Cirith Ungol.\\n\\n\\n== Cast ==\\n\\nLike the other films in the series, The Two Towers has an ensemble cast, and the cast and their respective characters include:\\n\\nElijah Wood as Frodo Baggins: A young hobbit sent on a quest to destroy the One Ring, the burden of which is becoming heavier.\\nIan McKellen as Gandalf the White: An Istari wizard who fell fighting a Balrog and has now returned, more powerful than ever, to finish his task.\\nViggo Mortensen as Aragorn: The heir-in-exile to Gondor\\'s throne who has come to Rohan\\'s defence.\\nSean Astin as Samwise Gamgee: Better known as Sam, Frodo\\'s loyal hobbit gardener and companion.\\nAndy Serkis as Gollum (voice/motion capture): A wretched hobbit-like creature originally known as Sméagol, who owned the Ring for 500 years and now guides Frodo on his quest.\\nBilly Boyd as Peregrin Took: An extremely foolish hobbit who is a distant cousin of Frodo and travels with the Fellowship on their journey to Mordor.\\nDominic Monaghan as Meriadoc Brandybuck: Better known as Merry, a distant cousin of Frodo\\'s who is mistakenly captured along with Pippin by the Uruk-hai.\\nJohn Rhys-Davies as Gimli: A dwarf warrior and one of Aragorn\\'s companions.\\nAlso voices Treebeard: The leader of the ents, who is roused to anger after seeing that Saruman had decimated a large part of Fangorn Forest.\\nOrlando Bloom as Legolas:', mimetype='text/plain', start_char_idx=4202, end_char_idx=8318, text_template='{metadata_str}\\n\\n{content}', metadata_template='{key}: {value}', metadata_seperator='\\n'),\n",
              " TextNode(id_='ebacb9aa-4baf-4c6a-88f4-29b9e85f37f7', embedding=None, metadata={'title': 'The Lord of the Rings: The Two Towers'}, excluded_embed_metadata_keys=[], excluded_llm_metadata_keys=[], relationships={<NodeRelationship.SOURCE: '1'>: RelatedNodeInfo(node_id='173944', node_type=<ObjectType.DOCUMENT: '4'>, metadata={}, hash='8a964a8be15461f84f36562053150f9d13018b43812e308b8610f23e1fe866b9'), <NodeRelationship.PREVIOUS: '2'>: RelatedNodeInfo(node_id='166b613a-509c-4481-b271-7516eab4c28b', node_type=<ObjectType.TEXT: '1'>, metadata={}, hash='3ebc9a4363c0f8d42343af843693867dc8c2a88ceef65c44fa7d0b75be7153be'), <NodeRelationship.NEXT: '3'>: RelatedNodeInfo(node_id='87e4b9bf-718e-4a0c-8a45-179af8616151', node_type=<ObjectType.TEXT: '1'>, metadata={}, hash='82db3f956444f8dad0a96b70d148a373768583f9b3f5b63bfbe1cafec6858147')}, text=\"Saruman had decimated a large part of Fangorn Forest.\\nOrlando Bloom as Legolas: An elven archer and one of Aragorn's companions.\\nBernard Hill as Théoden: The King of Rohan, who is under Saruman's spell until Gandalf heals him so he can lead his people once more. Kevin Conway was offered the role but he declined.\\nChristopher Lee as Saruman the White: An Istari wizard waging war upon Rohan and devastating Fangorn Forest, who allied himself with Sauron in the previous film.\\nHugo Weaving as Elrond: The Elven-Lord of Rivendell who expresses doubt over his daughter's love for Aragorn.\\nMiranda Otto as Éowyn: Théoden's niece, who is in love with Aragorn. Uma Thurman was offered the role but turned it down and later regretted it.\\nDavid Wenham as Faramir: A prince of the Stewards of Gondor and captain of the Ithilien Rangers, who captures Frodo, Sam and Gollum.\\nBrad Dourif as Gríma Wormtongue: An agent of Saruman at Edoras, who renders Théoden incapable of decisions, and desires Éowyn.\\nKarl Urban as Éomer: Théoden's nephew and previous Chief Marshal of the Riddermark who was exiled by Gríma.\\nLiv Tyler as Arwen: An elven princess of Rivendell and Aragorn's true love.\\nCate Blanchett as Galadriel: The Elven-Queen of Lothlórien, who discusses Middle-earth's future with Elrond.\\nSean Bean as Boromir: Faramir's older brother and a fallen member of the Fellowship who appears in flashbacks since his death, more prominently in the film's extended edition.\\nCraig Parker as Haldir: The leader of the Lórien Elves sent by Elrond and Galadriel to defend Helm's Deep.\\nJohn Leigh as Háma: The loyal doorwarden of the Golden Hall and a majordomo of Théoden.\\nBruce Hopkins as Gamling: Théoden's chief lieutenant and a skilled member of the Royal Guard of Rohan.\\nJohn Bach as Madril: Faramir's closest aide, who informs him of battle preparations.\\nNathaniel Lees as Ugluk: The leader of the band of Uruk-hai who kidnapped Merry and Pippin.\\nThe following appear only in the Extended Edition\\n\\nJohn Noble as Denethor: The corrupt Steward of Gondor and the father of Boromir and Faramir.\\nIn the Battle of Helm's Deep, Peter Jackson has a cameo appearance as one of the men on top of the gate, throwing a spear at the attacking Uruk-hai. His children and Elijah Wood's sister cameo as young refugees in the caves behind the Hornburg, and Alan Lee and Dan Hennah also cameo as soldiers preparing for the battle. The son of a producer's friend, Hamish Duncan, appears as a reluctant young Rohirrim warrior. Daniel Falconer has a cameo as an Elvish archer at the battle.\\n\\n\\n== Comparison to the source material ==\\n\\nScreenwriters did not originally script The Two Towers as its own film; The Lord of the Rings trilogy was initially written as a two-part series to be produced by Miramax, with parts of The Two Towers written as the conclusion to The Fellowship of the Ring. The two films became a trilogy under New Line, and writers Jackson, Walsh and Boyens shuffled their scripts. \\nThe most distinct difference from the book by J.R.R. Tolkien is its structure. Tolkien's The Two Towers is split into two parts, opening with the war in Rohan, and concluding with focus on the journey of Frodo and Sam. The film omits the book's opening, Boromir's death, which was used as a linear climax at the end of The Fellowship of the Ring. Where the book ends with the Fellowship going to Isengard and Frodo's confrontation with Shelob, the film climaxes with the Battle of Helm's Deep, leaving the aforementioned scenes for the film adaptation of The Return of the King. This was done partly to fit more closely the timeline indicated by the book.\\nIn the film, Théoden is possessed by Saruman, whereas in the book he is depicted as depressed and deluded by Wormtongue. Afterwards, in the film, Théoden is still unsure of what to do, and flees to Helm's Deep. In the book he rides out to war, only ending up besieged when he considers helping Erkenbrand. Erkenbrand does not exist in the films: his character is combined with Éomer as the Rohirrim general who arrives with Gandalf at the film's end. Éomer himself is present during the entire battle in the book.\\nOn the way to Helm's Deep, the refugees from\", mimetype='text/plain', start_char_idx=8239, end_char_idx=12422, text_template='{metadata_str}\\n\\n{content}', metadata_template='{key}: {value}', metadata_seperator='\\n'),\n",
              " TextNode(id_='87e4b9bf-718e-4a0c-8a45-179af8616151', embedding=None, metadata={'title': 'The Lord of the Rings: The Two Towers'}, excluded_embed_metadata_keys=[], excluded_llm_metadata_keys=[], relationships={<NodeRelationship.SOURCE: '1'>: RelatedNodeInfo(node_id='173944', node_type=<ObjectType.DOCUMENT: '4'>, metadata={}, hash='8a964a8be15461f84f36562053150f9d13018b43812e308b8610f23e1fe866b9'), <NodeRelationship.PREVIOUS: '2'>: RelatedNodeInfo(node_id='ebacb9aa-4baf-4c6a-88f4-29b9e85f37f7', node_type=<ObjectType.TEXT: '1'>, metadata={}, hash='70ea0f4cc420e685b68520104ea0ad85fc7f2db73d6b589f81c63e61378bc814'), <NodeRelationship.NEXT: '3'>: RelatedNodeInfo(node_id='e442b2dd-b052-4d74-87e0-4ba6bc00b6af', node_type=<ObjectType.TEXT: '1'>, metadata={}, hash='c0a34ccf6f5ab444b3a24a946bc83c74b800712a571fb78aedf3b3fa19a7bb2e')}, text='present during the entire battle in the book.\\nOn the way to Helm\\'s Deep, the refugees from Edoras are attacked by Wargs, similar to a scene in The Fellowship of the Ring where the Fellowship battles a group of Wargs. Here, a new subplot is created where Aragorn falls over a cliff, and is assumed to be dead; Jackson stated that he added it to create tension. This scene also resonates with a new subplot regarding Arwen, where she decides to leave Middle-earth after losing hope in the long-term possibilities of her love. In the book, Arwen\\'s role is primarily recorded in the Appendices, and she is never depicted as considering such an act.\\nA larger change was originally planned: Arwen and Elrond would visit Galadriel, and Arwen would accompany an army of Elves to Helm\\'s Deep to fight alongside Aragorn. During shooting, the script changed, both from writers coming up with better ideas to portray the romance between Aragorn and Arwen, as well as poor fan reaction. The new scene of Arwen leaving for the West was created, and the conversation scene remains, edited to be a flashback to a conversation between them in Rivendell, on the evening before the Fellowship\\'s departure. A conversation between Elrond and Galadriel in Lothlórien was edited to be a telepathic one. Nonetheless, one major change (already filmed) remained that could not be reversed: the Elven warriors fighting at Helm\\'s Deep, although Jackson and Boyens found this romantic and stirring and a reference to how, in the Appendices of The Return of the King, Galadriel and the Elves of Lothlórien, and Thranduil of Mirkwood were first attacked by an army out of Dol Guldur in Mirkwood, and then later counter-attacked and assaulted the fortress itself.\\nAnother change is the fact Treebeard does not immediately decide to go to war. This adds to the tension, and Boyens describes it as making Merry and Pippin \"more than luggage\". Here, the Hobbits show Treebeard what Saruman has done to the forest, prompting his decision to act. Another structural change is that the Hobbits meet Gandalf the White early on, explaining why the Hobbits do not react to his return when they meet him again following Isengard\\'s destruction. This was explained in the book by Gandalf arriving at Isengard in the middle of the night to talk to Treebeard.\\nThe filmmakers\\' decision to leave Shelob for the third film meant that Faramir had to become an obstacle for Frodo and Sam. In the book, Faramir (like Aragorn) quickly recognises the Ring as a danger and a temptation and does not hesitate long before letting Frodo and Sam go. In the film, Faramir first decides that the Ring shall go to Gondor and his father Denethor, as a way to prove his worth. In the film, Faramir takes Frodo, Sam and the Ring to the Battle of Osgiliath—they do not go there in the book. Jackson winks to readers with Sam\\'s line, \"By all rights we shouldn\\'t even be here, but we are.\" After seeing how strongly the Ring affects Frodo during the Nazgûl attack, Faramir changes his mind and lets them go. These changes reshape the book\\'s contrast between Faramir and Boromir, who in The Fellowship of the Ring attempted to take the Ring for himself. On the other hand, (which can be seen only in the film\\'s extended version), it is actually their father who wants the Ring and urges Boromir to get it, while Faramir only wants to prove himself to his father. Boyens contends these plot changes were needed to keep the Ring menacing. Wenham commented on the DVD documentaries that he had not read the book prior to reading the script, so the film\\'s version of Faramir was the Faramir he knew. When he later read the book and noticed the major difference, he approached the writers about it, and they explained to him that if he did say \"I wouldn\\'t pick that thing up even if it lay by the wayside\", it would basically strip the One Ring of all corruptive power.\\nThe meaning of the title itself, \\'The Two Towers\\', was changed. While Tolkien considered several possible sets of towers he eventually created a final cover illustration and wrote a note included at the end of The Fellowship of the Ring which identified them as Minas Morgul and Orthanc. Jackson\\'s film names them as Orthanc and Barad-dûr, symbolic of an evil alliance out to destroy Men that forms the film\\'s plot point. The film depicted Saruman openly presenting himself outright as Sauron\\'s servant, whereas this association was not explicitly stated in the novel (and indeed analysis by Gandalf and Aragorn in the chapter \"The White Rider\"', mimetype='text/plain', start_char_idx=12332, end_char_idx=16872, text_template='{metadata_str}\\n\\n{content}', metadata_template='{key}: {value}', metadata_seperator='\\n'),\n",
              " TextNode(id_='e442b2dd-b052-4d74-87e0-4ba6bc00b6af', embedding=None, metadata={'title': 'The Lord of the Rings: The Two Towers'}, excluded_embed_metadata_keys=[], excluded_llm_metadata_keys=[], relationships={<NodeRelationship.SOURCE: '1'>: RelatedNodeInfo(node_id='173944', node_type=<ObjectType.DOCUMENT: '4'>, metadata={}, hash='8a964a8be15461f84f36562053150f9d13018b43812e308b8610f23e1fe866b9'), <NodeRelationship.PREVIOUS: '2'>: RelatedNodeInfo(node_id='87e4b9bf-718e-4a0c-8a45-179af8616151', node_type=<ObjectType.TEXT: '1'>, metadata={}, hash='82db3f956444f8dad0a96b70d148a373768583f9b3f5b63bfbe1cafec6858147'), <NodeRelationship.NEXT: '3'>: RelatedNodeInfo(node_id='40cf21c6-7c76-4365-9db3-e1f4af8b4f03', node_type=<ObjectType.TEXT: '1'>, metadata={}, hash='d6cf881d310ed9128cc0599c66c9166fff37242ae7c835504b040e7a0bca381e')}, text='novel (and indeed analysis by Gandalf and Aragorn in the chapter \"The White Rider\" stated that there was a rivalry instead, as Saruman was afraid of the prospect of being at war with Sauron, if Rohan and Gondor fell).\\n\\n\\n== Production ==\\n\\n\\n=== Production design ===\\nWhen Alan Lee joined the project in late 1997, Helm\\'s Deep was the first structure he was tasked to design. At 1:35 scale, it was one of the first miniatures built for the film, and was part of the 45-minute video that sold the project to New Line. It was primarily drawn from an illustration Lee had once done for the book, though the curved wall featured in the film was proposed by fellow illustrator and designer John Howe. Used in the film for wide shots, Jackson also used this miniature to plan the battle, using 40,000 toy soldiers.\\nHelm\\'s Deep, a pivotal part of the film\\'s narrative, was built at Dry Creek Quarry with its gate, a ramp, and a wall, which included a removable section as well as the tower on a second level. A 1:4-scale miniature of Helm\\'s Deep that ran 50 feet (15 m) wide was used for forced perspective shots, as well as the major explosion sequence.\\nThe film explores the armies of Middle-earth. John Howe was the basic designer of the evil forces of Middle Earth, with the Uruk-hai being the first army approved by Jackson. Howe also designed a special crossbow for the Uruk-Hai characters, which was significant because it did not require external tools to rearm. This design was the realisation of a 16th-century manuscript. Also created were 100 Elven suits of armour, for which emphasis was placed on Autumnal colours due to the theme of Elves leaving Middle-earth. Two hundred and fifty suits were also made for the Rohirrim. The designs for Rohan were based on Germanic and Anglo-Saxon patterns, with most of the weapons designed by John Howe and forged by Peter Lyon. Each sword took 3 to 6 days to make.\\nThe exterior of the Rohirrim\\'s capital of Edoras, including its thatched roofs, took six months to build on Mount Sunday. The interior of the buildings doubled as offices and lunch halls. The interior of the Hall of Edoras was filmed at Stone Street Studios with tapestries designed by Lee, and Théoden\\'s wooden throne was partly created by his daughter. Hill endured heavy make-up for the possession scene where his skin was pulled back and released for increased wrinkles. Dourif shaved off his eyebrows and put potato flakes as dandruff in his hair for unnerving effect.\\nThrough Frodo and Sam\\'s story, the film also provides a look at Mordor and Gondor. Barad-dûr is fully seen in a tracking shot, a design which Howe called a mockery of Gothic Cathedrals. He and Lee created the Black Gate (though a typo in the script made the miniature into two) and Osgiliath, a ruined city reflecting London during the Blitz or Berlin in 1945. The set on a backlot was based around a bridge and reused some of Moria.\\n\\n\\n=== Principal photography ===\\n\\nThe Two Towers shared principal photography with The Fellowship of the Ring and The Return of the King. The trilogy was filmed between 11 October 1999 and 22 December 2000. The scenes which take place in Rohan were shot earlier in the production, during which time Viggo Mortensen, Orlando Bloom and John Rhys-Davies\\'s stunt double Brett Beattie sustained many injuries. Mortensen broke two toes when he kicked an Orc helmet while filming the scene in which he, Legolas, and Gimli find the remains of the Uruk-hai and believe Merry and Pippin to be dead (a shot which is included in the film). Furthermore, during filming Bloom fell off his horse and cracked three ribs, and Beattie dislocated his knee. These injuries led to the actors suffering two days of pain during the running sequence in the first act of the film, leading Jackson to jokingly refer to them as \"The Walking Wounded.\"\\nThe filming of the Battle of Helm\\'s Deep took approximately three months, with most of the nighttime shots handled by John Mahaffie. Some injuries were sustained during the filming of the sequence, including Mortensen chipping his tooth, and Bernard Hill\\'s ear getting slashed. The sequence also features 500 extras, who insulted each other in Māori, and improvised scenes such as the Uruk-hai stamping their spears before the beginning of the battle. However, there was alleged annoyance among the film\\'s crew for the strength of the gates, which were claimed to be too reinforced during the Battering Ram scene. Mortensen greatly respected the stunt team, and head bumped them often as a sign of that respect.\\nWood and Astin were joined by Serkis on 13', mimetype='text/plain', start_char_idx=16790, end_char_idx=21383, text_template='{metadata_str}\\n\\n{content}', metadata_template='{key}: {value}', metadata_seperator='\\n'),\n",
              " TextNode(id_='40cf21c6-7c76-4365-9db3-e1f4af8b4f03', embedding=None, metadata={'title': 'The Lord of the Rings: The Two Towers'}, excluded_embed_metadata_keys=[], excluded_llm_metadata_keys=[], relationships={<NodeRelationship.SOURCE: '1'>: RelatedNodeInfo(node_id='173944', node_type=<ObjectType.DOCUMENT: '4'>, metadata={}, hash='8a964a8be15461f84f36562053150f9d13018b43812e308b8610f23e1fe866b9'), <NodeRelationship.PREVIOUS: '2'>: RelatedNodeInfo(node_id='e442b2dd-b052-4d74-87e0-4ba6bc00b6af', node_type=<ObjectType.TEXT: '1'>, metadata={}, hash='c0a34ccf6f5ab444b3a24a946bc83c74b800712a571fb78aedf3b3fa19a7bb2e'), <NodeRelationship.NEXT: '3'>: RelatedNodeInfo(node_id='b9096c0e-08b3-480e-846f-0205c077b014', node_type=<ObjectType.TEXT: '1'>, metadata={}, hash='3b17a80120e9882a30a5320334b24da4539bf90123b8e39f44bcc3776c11bcc7')}, text='as a sign of that respect.\\nWood and Astin were joined by Serkis on 13 April 2000.\\n\\n\\n=== Special effects ===\\nAs with The Fellowship of the Ring, Jim Rygiel served as the visual effects supervisor for The Two Towers, while newcomer Joe Letteri joined the visual effects team to supervise Andy Serkis\\'s motion capture performance in the creation of the character Gollum. During the production of The Two Towers Weta Digital doubled their staff members of 260. In total, they would produce 73 minutes of digital effects with 799 shots. The film would feature their first challenge in creating a battle scene, as well as creating two digital characters who needed to act rather than be a set piece, unlike the previous film\\'s Cave Troll and Balrog.\\n\\nGollum\\n\\nWeta began animating Gollum in late 1998 to convince New Line they could achieve the effect. Andy Serkis \"played\" Gollum by providing his voice and movements on set, as well as performing within the motion capture suit later on. His scenes were filmed twice, with and without him. Originally, Gollum was set to solely be a CGI character, but Jackson was so impressed by Serkis\\' audition tape that they used him on set as well.\\nGollum\\'s CGI model was also redesigned during 2001 when Serkis was cast as Sméagol, Gollum\\'s former self, so as to give the impression Andy Serkis as Sméagol transforms into the CGI Gollum. The original model can still be glimpsed briefly in the first film. Over Christmas 2001, the crew proceeded to reanimate all the previous shots accordingly within two months. Another problem was that the crew realised that the cast performed better in the takes which physically included Serkis. In the end, the CGI Gollum was rotoscoped and animated on top of these scenes.\\nSerkis\\'s motion capture was generally used to animate Gollum\\'s body, except for some difficult shots such as him crawling upside down. Gollum\\'s face was animated manually, often using recordings of Serkis as a guide. Gino Acevedo supervised realistic skin tones, which took four hours per frame to render.\\nWhile the novel alludes to a division within his mind, the film depicts him as having a split personality. The two personas—the childlike Sméagol and the evil Gollum—are established during a scene in which they argue over remaining loyal to Frodo. The two personalities talk to each other, as established by contrasting camera angles and by Serkis altering his voice and physicality for each persona.\\n\\nTreebeard\\nTreebeard took between 28 and 48 hours per frame to render. For scenes where he interacts with Merry and Pippin, a 14-foot-tall puppet was built on a wheel. Weta took urethane moulds of tree bark and applied them to the sculpt of Treebeard to create his wooden skin. Dominic Monaghan and Billy Boyd sat on bicycle seats concealed into Treebeard\\'s hands to avoid discomfort and were left alone on set sitting in the puppet\\'s hands during breaks. The puppet was shot against bluescreen.\\n\\n\\n=== Score ===\\n\\nThe musical score for The Two Towers was composed, orchestrated, and conducted by Howard Shore, who also composed the music for the other two films in the series. While the scores for its predecessor and sequel won the Academy Award for Best Score, the soundtrack for The Two Towers was not nominated. Initially there was confusion over the score\\'s eligibility due to a new rule applying to sequels, but the academy did declare it eligible.\\nThe score features The London Philharmonic Orchestra, London Voices, The London Oratory School Schola and several vocal and instrumental soloists, including soprano Isabel Bayrakdarian, and Irish fiddler and violinist Dermot Crehan, who also performed on the Hardanger fiddle, which is used in this film in conjunction with the various Rohan themes.\\nThe funeral song Éowyn sings during her cousin Théodred\\'s entombment in the extended edition is styled to be a traditional song of the Rohirrim, and has lyrics in their language, Rohirric (represented by Old English). The song does not appear in the book, and the tune is a variation upon a theme of the rímur Icelandic folk tradition; it can be heard as part of track 7 in the 1999 recording of a musical version of the Edda by Sequentia.\\nThe soundtrack was recorded at Abbey Road Studios. The soundtrack has a picture of Peter Jackson (barefoot), the composer, and two producers crossing Abbey Road, referencing The Beatles\\' album of the same name.\\n\\n\\n== Release ==\\n\\n\\n=== Marketing ===\\nThe teaser trailer premiered in theatres on 3 July 2002 with the release of Men in Black II. The theatrical trailer was then released theatrically on 4 October 2002', mimetype='text/plain', start_char_idx=21314, end_char_idx=25921, text_template='{metadata_str}\\n\\n{content}', metadata_template='{key}: {value}', metadata_seperator='\\n'),\n",
              " TextNode(id_='b9096c0e-08b3-480e-846f-0205c077b014', embedding=None, metadata={'title': 'The Lord of the Rings: The Two Towers'}, excluded_embed_metadata_keys=[], excluded_llm_metadata_keys=[], relationships={<NodeRelationship.SOURCE: '1'>: RelatedNodeInfo(node_id='173944', node_type=<ObjectType.DOCUMENT: '4'>, metadata={}, hash='8a964a8be15461f84f36562053150f9d13018b43812e308b8610f23e1fe866b9'), <NodeRelationship.PREVIOUS: '2'>: RelatedNodeInfo(node_id='40cf21c6-7c76-4365-9db3-e1f4af8b4f03', node_type=<ObjectType.TEXT: '1'>, metadata={}, hash='d6cf881d310ed9128cc0599c66c9166fff37242ae7c835504b040e7a0bca381e'), <NodeRelationship.NEXT: '3'>: RelatedNodeInfo(node_id='d864076a-720a-4355-be91-451bd1e767b3', node_type=<ObjectType.TEXT: '1'>, metadata={}, hash='96f7df68378bd2c3de3eb971df7e3941799bf270c5d41480bb20eae51bf36dbd')}, text='in Black II. The theatrical trailer was then released theatrically on 4 October 2002 with the debut of Red Dragon.\\n\\n\\n=== Home media ===\\n\\n\\n==== VHS and DVD ====\\nThe Two Towers was released on VHS and DVD on 26 August 2003 in the United States. The date was originally intended to be a simultaneous worldwide release, but due to a bank holiday weekend in the United Kingdom, some British outlets began selling DVDs as much as four days earlier, much to the ire of the UK distributor, Entertainment in Video, which had threatened to withhold advance supplies of subsequent DVD releases. During its first five days of release, the DVD release sold over 3.5 million units. The film also generated $22.8 million in rentals, breaking The Bourne Identity\\'s record for having the biggest rentals of any DVD release. By December 2003, it was reported that The Two Towers sold 16.4 million copies and earned $305.4 million in sales revenue, becoming the second-highest selling home video release of 2003, after Finding Nemo.\\nAs with Fellowship, an extended edition of Two Towers was released on VHS and DVD on 18 November 2003 with 45 minutes of new material, added special effects and music, plus 11 minutes of fan-club credits. The runtime expanded to 235 minutes. The 4-disc DVD set included four commentaries along with hours of supplementary material.\\nIn August 2006, a limited edition was released on DVD, and included both theatrical and extended editions on a double-sided disc along with all-new bonus material.\\n\\n\\n==== Blu-ray ====\\nThe theatrical Blu-ray version of The Lord of the Rings was released in the United States in April 2010. The individual disc of Two Towers was released in September 2010 with the same special features as the complete trilogy release, minus digital copy.\\nThe extended Blu-ray editions were released in the US and Canada in June 2011.\\nTwo Towers was released in Ultra HD Blu-ray on 30 November 2020 in the United Kingdom and on 1 December 2020 in the United States, along with the other instalments, including both theatrical and extended cuts.\\n\\n\\n== Reception ==\\n\\n\\n=== Box office ===\\nThe Two Towers opened in theatres on 18 December 2002. During its opening day, the film grossed $26 million, making it the second-highest opening Wednesday, behind Star Wars: Episode I – The Phantom Menace. It earned $62 million in its opening weekend in the US and Canada, becoming the fifth-highest opening weekend of that year, behind Austin Powers in Goldmember, Star Wars: Episode II – Attack of the Clones, Harry Potter and the Chamber of Secrets and Spider-Man. This was also the third-highest opening weekend for a New Line Cinema film, trailing only behind Rush Hour 2 and Austin Powers in Goldmember. The film then made $101.5 million during its five-day Wednesday opening.\\nOutside the US and Canada, The Two Towers made $99.4 million from 25 territories during its opening weekend, which made it the highest international opening weekend. The combined total opening weekend gross increased to $189.9 million, making it the highest worldwide opening weekend of all time. The film would hold both records until 2003 when they were given to The Matrix Reloaded and its successor The Matrix Revolutions respectively. The Two Towers set opening day records in Germany, Austria, Finland, the Netherlands, Switzerland, Belgium, Sweden and Norway, as well as a single-day record in Denmark. It then made opening weekend records in the United Kingdom, Spain, France, Mexico, Norway, Switzerland, Denmark, Germany and South Korea.\\nThe film went on to gross $339.8 million in North America and $596.9 million internationally for a worldwide total of $936.7 million against a budget of $94 million. The Two Towers was the highest-grossing film of 2002 worldwide. Box Office Mojo estimates over 57 million sold tickets in the US in its initial theatrical run.\\nFollowing subsequent reissues, the film has grossed $345.3 million in the United States and Canada and $606 million in the rest of the world for a worldwide total of $951.4 million.\\n\\n\\n=== Critical response ===\\n\\nOn review aggregator Rotten Tomatoes, The Two Towers holds an approval rating of 95% based on 258 reviews, with an average rating of 8.50/10. The website\\'s critics consensus reads, \"The Two Towers balances spectacular action with emotional storytelling, leaving audiences both wholly satisfied and eager for the final chapter.\" Metacritic, which uses a weighted average, has assigned the film a score of 87 out of 100 based on 39 reviews, indicating \"universal acclaim\". Audiences polled by CinemaScore gave the film an average grade of \"A\" on an A+ to F scale, a grade up from the \"A−\" earned by the previous film.\\nLike its', mimetype='text/plain', start_char_idx=25837, end_char_idx=30542, text_template='{metadata_str}\\n\\n{content}', metadata_template='{key}: {value}', metadata_seperator='\\n'),\n",
              " TextNode(id_='d864076a-720a-4355-be91-451bd1e767b3', embedding=None, metadata={'title': 'The Lord of the Rings: The Two Towers'}, excluded_embed_metadata_keys=[], excluded_llm_metadata_keys=[], relationships={<NodeRelationship.SOURCE: '1'>: RelatedNodeInfo(node_id='173944', node_type=<ObjectType.DOCUMENT: '4'>, metadata={}, hash='8a964a8be15461f84f36562053150f9d13018b43812e308b8610f23e1fe866b9'), <NodeRelationship.PREVIOUS: '2'>: RelatedNodeInfo(node_id='b9096c0e-08b3-480e-846f-0205c077b014', node_type=<ObjectType.TEXT: '1'>, metadata={}, hash='3b17a80120e9882a30a5320334b24da4539bf90123b8e39f44bcc3776c11bcc7'), <NodeRelationship.NEXT: '3'>: RelatedNodeInfo(node_id='ad5a01f4-14b8-44f1-97ba-cd7ecaf38ce0', node_type=<ObjectType.TEXT: '1'>, metadata={}, hash='46e0f1950ec0e879945a749170673fbc857e6a2b58953b2498627591444f22ab')}, text='F scale, a grade up from the \"A−\" earned by the previous film.\\nLike its predecessor, The Two Towers was released to universal critical acclaim and is widely considered to be one of the greatest sequels in cinema history. Roger Ebert of the Chicago Sun-Times gave the film three stars out of four, describing it as \"one of the most spectacular swashbucklers ever made\", and stating \"It is not faithful to the spirit of Tolkien and misplaces much of the charm and whimsy of the books, but it stands on its own as a visionary thriller\". Nev Pierce for the BBC gave the film four stars out of five, and wrote that while it lacked \"the first film\\'s wow-factor\", it surpassed The Fellowship of the Ring \"in terms of wit, action and narrative drive\". Pierce described Gollum as \"the first believable CG character\" and the Battle of Helm\\'s Deep as \"one of the finest, most expansive combat sequences ever filmed\". Writing for The Observer, Philip French described The Two Towers as a \"stunning visual epic\". French commended the battle scenes and the visual style of the film, relating it to the paintings of \"Caspar David Friedrich, the Pre-Raphaelites, Art Nouveau illustrations for children\\'s books, and the apocalyptic biblical landscapes ... of the Victorian visionary John Martin\". He concluded the review looking forward to the release of the final chapter, writing \"This is likely to be happier, more decisive and infinitely more satisfying than anything that will happen to our world in the next 12 months.\"\\nJoe Morgenstern for The Wall Street Journal lauded the narrative construction of The Two Towers: \"Elaborate preparations are required for the payoff in this instalment -- the massing of troops plus much individual struggle as splintered groups of the Fellowship make their separate ways toward the defining battle of Helm\\'s Deep ... Yet these preparations count as payoffs too ... Seldom has a popular entertainment set its stage so carefully or evocatively, with such lavish respect for its audience.\" Morgenstern also highlighted the digital effects and the battle scenes, and said of the series \"The Lord of the Rings continues to stake its singular claim on movie history; it\\'s a gift of epic proportions.\" In his review for the Evening Standard, Alexander Walker wrote that the Battle of Helm\\'s Deep was \"probably the greatest battlepiece composed for the screen since Eisenstein\\'s Ivan the Terrible\", and that with The Two Towers the trilogy had achieved \"a majestic proportion, chivalric and quixotic, earthly and magical, an experience that reaches beyond the dimensions of the cinema screen and somehow reflects the global unease of the world in the first years of the 21st century\".\\nIn his review for Newsweek, David Ansen commended Jackson\\'s direction of the battle scenes, writing \"Few people can stage a battle -- and the eyepopping siege of Helms Deep is one of the most spectacular you\\'ll ever see -- with such sweep and clarity that the carnage doesn\\'t seem an oppressive end in itself\". Ansen also praised the complexity of the character of Gollum, commenting \"While everyone else in Tolkien\\'s myth falls neatly into the camps of Good and Evil, the self-lacerating Gollum is at war with himself. In an epic drenched in medievalism, he\\'s the dangerously ambiguous voice of the modern.\" Caroline Westbrook, for Empire, gave the film five stars out of five, and wrote \"It may lack the first-view-thrill and natural dramatic shape of Fellowship, but this is both funnier and darker than the first film, and certainly more action-packed. An essential component of what is now destined to be among the best film franchises of all time.\" Westbrook lauded Jackson\\'s ability to temper the spectacular scenes \"with some heartstring-tugging moments - peasants despondent as they are forced to abandon their villages, Aragorn and Arwen\\'s troubled relationship, and, of course, the return of Gandalf (Sir Ian McKellen, superb as ever), one of the film\\'s most powerful, memorable images that may well leave Ring devotees a little misty-eyed.\"\\nA less enthusiastic review was written in The Guardian by Peter Bradshaw, who had already written a mixed review of The Fellowship of the Ring. Bradshaw gave The Two Towers three stars out of five, appreciating it as \"a very watchable, distinctive, if over-extended FX spectacle\". However, he commented that the film could not be taken as \"a serious evocation of good and evil\", and dismissed the subject as \"lots and lots of interminable nerdish nonsense\".\\nThe Battle of Helm\\'s Deep has been named by CNN as one of the greatest screen battles of all time, while Gollum was named as the third favourite computer-generated film character by Entertainment Weekly in 2007.\\n\\n\\n=== Accolades ===\\n\\nAcademy Awards\\nWinner: Best Visual Effects (Jim Rygiel, Joe Letteri, Randall William Cook and Alex', mimetype='text/plain', start_char_idx=30471, end_char_idx=35315, text_template='{metadata_str}\\n\\n{content}', metadata_template='{key}: {value}', metadata_seperator='\\n'),\n",
              " TextNode(id_='ad5a01f4-14b8-44f1-97ba-cd7ecaf38ce0', embedding=None, metadata={'title': 'The Lord of the Rings: The Two Towers'}, excluded_embed_metadata_keys=[], excluded_llm_metadata_keys=[], relationships={<NodeRelationship.SOURCE: '1'>: RelatedNodeInfo(node_id='173944', node_type=<ObjectType.DOCUMENT: '4'>, metadata={}, hash='8a964a8be15461f84f36562053150f9d13018b43812e308b8610f23e1fe866b9'), <NodeRelationship.PREVIOUS: '2'>: RelatedNodeInfo(node_id='d864076a-720a-4355-be91-451bd1e767b3', node_type=<ObjectType.TEXT: '1'>, metadata={}, hash='96f7df68378bd2c3de3eb971df7e3941799bf270c5d41480bb20eae51bf36dbd')}, text='Best Visual Effects (Jim Rygiel, Joe Letteri, Randall William Cook and Alex Funke) and Best Sound Editing (Ethan Van der Ryn and Michael Hopkins).\\nNominee: Best Picture (Fran Walsh, Philippa Boyens, Stephen Sinclair and Peter Jackson, producers), Best Art Direction (Art Direction: Grant Major; Set Decoration: Dan Hennah and Alan Lee), Best Film Editing (Michael J. Horton) and Best Sound (Christopher Boyes, Michael Semanick, Michael Hedges and Hammond Peek).\\nBritish Academy Film Awards: Best Costume Design, Best Special Visual Effects, Orange Film of the Year (voted on by the public)\\nEmpire Awards: Best Picture\\nGrammy Awards: Best Score (Howard Shore)\\nHugo Awards (World Science Fiction Society): Best Dramatic Presentation — Long Form\\n2003 MTV Movie Awards: Best virtual performance (Gollum)\\nSaturn Awards: Best Fantasy Film, Best Costume (Ngila Dickson), Best Supporting Actor (Andy Serkis)\\n\\n\\n=== American Film Institute Recognition ===\\nAFI\\'s 100 Years...100 Movie Quotes:\\n\"My precious.\" – #85\\n\\n\\n== Notes ==\\n\\n\\n== References ==\\n\\n\\n== External links ==\\n\\nOfficial website \\nThe Lord of the Rings: The Two Towers at IMDb \\nThe Lord of the Rings: The Two Towers at AllMovie \\nThe Lord of the Rings: The Two Towers at Box Office Mojo \\nThe Lord of the Rings: The Two Towers at Metacritic \\nThe Lord of the Rings: The Two Towers at Rotten Tomatoes', mimetype='text/plain', start_char_idx=35240, end_char_idx=36583, text_template='{metadata_str}\\n\\n{content}', metadata_template='{key}: {value}', metadata_seperator='\\n')]"
            ]
          },
          "execution_count": 46,
          "metadata": {},
          "output_type": "execute_result"
        }
      ],
      "source": [
        "### YOUR CODE HERE\n",
        "nodes"
=======
      "execution_count": 19,
      "metadata": {
        "id": "mt1lhxEnUKxO"
      },
      "outputs": [],
      "source": [
        "### YOUR CODE HERE"
>>>>>>> upstream/main
      ]
    },
    {
      "cell_type": "markdown",
      "metadata": {
        "id": "Sfbon1BwSLFS"
      },
      "source": [
        "### Persisting and Loading Stored Index with Weights and Biases\n",
        "\n",
        "Now we can utilize a powerful feature of Weights and Biases - index and artifact versioning!\n",
        "\n",
        "We can persist our index to WandB to be used and loaded later!"
      ]
    },
    {
      "cell_type": "code",
<<<<<<< HEAD
      "execution_count": 47,
=======
      "execution_count": 25,
>>>>>>> upstream/main
      "metadata": {
        "colab": {
          "base_uri": "https://localhost:8080/"
        },
        "id": "PHJd00J3G48_",
<<<<<<< HEAD
        "outputId": "c5358bc1-668c-4ba8-b0a7-cc2c99e5e40e"
=======
        "outputId": "c1bdd410-4613-4c20-faf3-8bba42a60eac"
>>>>>>> upstream/main
      },
      "outputs": [
        {
          "name": "stderr",
          "output_type": "stream",
          "text": [
<<<<<<< HEAD
            "\u001b[34m\u001b[1mwandb\u001b[0m: Adding directory to artifact (/Users/peterdudka/Desktop/Programming/AIEngineeringHW/Week 5/Day 1/wandb/run-20240625_204109-vkh5vihj/files/storage)... Done. 0.0s\n"
=======
            "\u001b[34m\u001b[1mwandb\u001b[0m: Adding directory to artifact (/content/wandb/run-20240625_205442-48js8m4z/files/storage)... Done. 0.0s\n"
>>>>>>> upstream/main
          ]
        }
      ],
      "source": [
        "wandb_callback.persist_index(index, index_name=\"movie-index-qdrant\")"
      ]
    },
    {
      "cell_type": "markdown",
      "metadata": {
        "id": "jvpHLt8UShKa"
      },
      "source": [
        "Now we can load our index from WandB, which is a truly powerful tool!"
      ]
    },
    {
      "cell_type": "code",
<<<<<<< HEAD
      "execution_count": 50,
=======
      "execution_count": 27,
>>>>>>> upstream/main
      "metadata": {
        "colab": {
          "base_uri": "https://localhost:8080/"
        },
        "id": "FDZLmqTDHDrZ",
<<<<<<< HEAD
        "outputId": "e8a555a2-c1fc-4f64-9cfe-e3aca19eb23f"
=======
        "outputId": "1cd15fda-8020-4887-8e82-02e8e99b95d8"
>>>>>>> upstream/main
      },
      "outputs": [
        {
          "name": "stderr",
          "output_type": "stream",
          "text": [
<<<<<<< HEAD
            "\u001b[34m\u001b[1mwandb\u001b[0m:   4 of 4 files downloaded.  \n"
=======
            "\u001b[34m\u001b[1mwandb\u001b[0m: \\ 1 of 4 files downloaded...\r\u001b[34m\u001b[1mwandb\u001b[0m:   4 of 4 files downloaded.  \n"
>>>>>>> upstream/main
          ]
        }
      ],
      "source": [
        "from llama_index.core import load_index_from_storage\n",
        "\n",
        "storage_context = wandb_callback.load_storage_context(\n",
<<<<<<< HEAD
        "    artifact_url=\"pdudka-aie3/llama-index-rag-v1/movie-index-qdrant:v0\"\n",
=======
        "    artifact_url=\"<<YOUR USERNAME HERE>>\"\n",
>>>>>>> upstream/main
        ")"
      ]
    },
    {
      "cell_type": "markdown",
      "metadata": {
        "id": "kVVW70zyapx1"
      },
      "source": [
        "####❓ Question #2:\n",
        "\n",
        "Provide a screenshot of your index version history as shown in WandB.\n",
        "\n",
        "You can find your screenshot by doing the following:\n",
        "\n",
        "![image](https://i.imgur.com/Y0AHkQI.png)"
      ]
    },
    {
      "cell_type": "markdown",
      "metadata": {
        "id": "kCSHKnb0mIte"
      },
      "source": [
        "## Task 5: Simple RAG - QueryEngine\n",
        "\n",
        "Now that we're created our `VectorStoreIndex`, powered by a QDrant VectorStore, we can wrap it in a simple `QueryEngine` using the `as_query_engine()` method - which will connect a few things together for us:"
      ]
    },
    {
      "cell_type": "code",
<<<<<<< HEAD
      "execution_count": 22,
=======
      "execution_count": 28,
>>>>>>> upstream/main
      "metadata": {
        "id": "3ipb8j6dfLcO"
      },
      "outputs": [],
      "source": [
        "simple_rag = index.as_query_engine()"
      ]
    },
    {
      "cell_type": "markdown",
      "metadata": {
        "id": "zgJZGr5FqAME"
      },
      "source": [
        "Before we test this out - let's see what information we can find out about from our new `QueryEngine`!"
      ]
    },
    {
      "cell_type": "code",
<<<<<<< HEAD
      "execution_count": 23,
=======
      "execution_count": 29,
>>>>>>> upstream/main
      "metadata": {
        "colab": {
          "base_uri": "https://localhost:8080/"
        },
        "id": "L-3v4ntaqFmd",
<<<<<<< HEAD
        "outputId": "c23a1ac4-5119-4e3f-c0ad-1d3ad96cc244"
=======
        "outputId": "fd22ec0d-ad8c-4fe5-8585-b14e67bbe40d"
>>>>>>> upstream/main
      },
      "outputs": [
        {
          "name": "stdout",
          "output_type": "stream",
          "text": [
            "Context information is below.\n",
            "---------------------\n",
            "{context_str}\n",
            "---------------------\n",
            "Given the context information and not prior knowledge, answer the query.\n",
            "Query: {query_str}\n",
            "Answer: \n",
            "\n",
            "~~~~~~~~~~~~~~~~~~\n",
            "\n",
            "The original query is as follows: {query_str}\n",
            "We have provided an existing answer: {existing_answer}\n",
            "We have the opportunity to refine the existing answer (only if needed) with some more context below.\n",
            "------------\n",
            "{context_msg}\n",
            "------------\n",
            "Given the new context, refine the original answer to better answer the query. If the context isn't useful, return the original answer.\n",
            "Refined Answer: \n",
            "\n",
            "~~~~~~~~~~~~~~~~~~\n",
            "\n"
          ]
        }
      ],
      "source": [
        "for k, v in simple_rag.get_prompts().items():\n",
        "  print(v.get_template())\n",
        "  print(\"\\n~~~~~~~~~~~~~~~~~~\\n\")"
      ]
    },
    {
      "cell_type": "markdown",
      "metadata": {
        "id": "N1YoR45tnv8h"
      },
      "source": [
        "Let's see how it does!"
      ]
    },
    {
      "cell_type": "code",
<<<<<<< HEAD
      "execution_count": 24,
      "metadata": {
        "id": "FgpQhKobfQ7y"
      },
      "outputs": [],
=======
      "execution_count": 30,
      "metadata": {
        "colab": {
          "base_uri": "https://localhost:8080/"
        },
        "id": "FgpQhKobfQ7y",
        "outputId": "99e37a51-5ddb-452b-89ec-cb927165ebc5"
      },
      "outputs": [
        {
          "name": "stderr",
          "output_type": "stream",
          "text": [
            "\u001b[34m\u001b[1mwandb\u001b[0m: Logged trace tree to W&B.\n"
          ]
        }
      ],
>>>>>>> upstream/main
      "source": [
        "response = simple_rag.query(\"Who is the evil Wizard in the story?\")"
      ]
    },
    {
      "cell_type": "code",
<<<<<<< HEAD
      "execution_count": 25,
      "metadata": {
        "colab": {
          "base_uri": "https://localhost:8080/",
          "height": 35
        },
        "id": "654d4vdfhnVq",
        "outputId": "1876f7a0-715e-47e0-fce0-e75bcba02881"
=======
      "execution_count": 31,
      "metadata": {
        "colab": {
          "base_uri": "https://localhost:8080/",
          "height": 87
        },
        "id": "654d4vdfhnVq",
        "outputId": "5e9c8a8b-e3e5-453f-9459-c0626c7d954c"
>>>>>>> upstream/main
      },
      "outputs": [
        {
          "data": {
            "application/vnd.google.colaboratory.intrinsic+json": {
              "type": "string"
            },
            "text/plain": [
<<<<<<< HEAD
              "'The evil wizard in the story is Saruman the White.'"
            ]
          },
          "execution_count": 25,
=======
              "\"Saruman the White is the evil wizard in the story. He is described as waging war upon Rohan and devastating Fangorn Forest, having allied himself with Sauron. Saruman has decimated a large part of Fangorn Forest and is portrayed as openly presenting himself as Sauron's servant. He also placed a spell on Théoden, the King of Rohan, until Gandalf healed him.\""
            ]
          },
          "execution_count": 31,
>>>>>>> upstream/main
          "metadata": {},
          "output_type": "execute_result"
        }
      ],
      "source": [
        "response.response"
      ]
    },
    {
      "cell_type": "markdown",
      "metadata": {
        "id": "D8rRiijvpVoQ"
      },
      "source": [
        "That makes sense!\n",
        "\n",
        "Let's ask a question that's slightly more...ambiguous."
      ]
    },
    {
      "cell_type": "code",
<<<<<<< HEAD
      "execution_count": 26,
      "metadata": {
        "id": "_m0H1tbLiqME"
      },
      "outputs": [],
=======
      "execution_count": 32,
      "metadata": {
        "colab": {
          "base_uri": "https://localhost:8080/"
        },
        "id": "_m0H1tbLiqME",
        "outputId": "f3a672cf-1d9f-4776-ed6b-47c5a8a1424c"
      },
      "outputs": [
        {
          "name": "stderr",
          "output_type": "stream",
          "text": [
            "\u001b[34m\u001b[1mwandb\u001b[0m: Logged trace tree to W&B.\n"
          ]
        }
      ],
>>>>>>> upstream/main
      "source": [
        "response = simple_rag.query(\"Who are the giant beings that roam across the world?\")"
      ]
    },
    {
      "cell_type": "code",
<<<<<<< HEAD
      "execution_count": 27,
      "metadata": {
        "colab": {
          "base_uri": "https://localhost:8080/",
          "height": 35
        },
        "id": "TEh4yjQzizeV",
        "outputId": "26ded106-476a-46d8-aa57-1b25ff69d889"
=======
      "execution_count": 33,
      "metadata": {
        "colab": {
          "base_uri": "https://localhost:8080/",
          "height": 105
        },
        "id": "TEh4yjQzizeV",
        "outputId": "ed4a0336-d639-4857-d4b3-048f83588093"
>>>>>>> upstream/main
      },
      "outputs": [
        {
          "data": {
            "application/vnd.google.colaboratory.intrinsic+json": {
              "type": "string"
            },
            "text/plain": [
<<<<<<< HEAD
              "'The giant beings that roam across the world are the sandworms.'"
            ]
          },
          "execution_count": 27,
=======
              "'I apologize, but I don\\'t have any information about giant beings roaming across the world based on the context provided. The given text primarily discusses details about the production of two films - \"Dune\" (2021) and \"The Lord of the Rings: The Fellowship of the Ring\". It doesn\\'t mention any giant beings roaming the world. If you have a different question about these films or their production, I\\'d be happy to try to answer based on the information available.'"
            ]
          },
          "execution_count": 33,
>>>>>>> upstream/main
          "metadata": {},
          "output_type": "execute_result"
        }
      ],
      "source": [
        "response.response"
      ]
    },
    {
      "cell_type": "markdown",
      "metadata": {
        "id": "xOb6eh8_pnaX"
      },
      "source": [
        "We can check the source nodes to see which movies we retrieved."
      ]
    },
    {
      "cell_type": "code",
<<<<<<< HEAD
      "execution_count": 28,
=======
      "execution_count": 34,
>>>>>>> upstream/main
      "metadata": {
        "colab": {
          "base_uri": "https://localhost:8080/"
        },
        "id": "y_qyApFDpPny",
<<<<<<< HEAD
        "outputId": "72978c32-77e8-4c8d-9f18-8e17025db37c"
=======
        "outputId": "9c540eda-c5d6-4301-db75-f5e47b189629"
>>>>>>> upstream/main
      },
      "outputs": [
        {
          "name": "stdout",
          "output_type": "stream",
          "text": [
            "['Dune (2021 film)', 'The Lord of the Rings: The Fellowship of the Ring']\n"
          ]
        }
      ],
      "source": [
        "print([x.metadata[\"title\"] for x in response.source_nodes])"
      ]
    },
    {
      "cell_type": "markdown",
      "metadata": {
        "id": "xBEXFmPapZpg"
      },
      "source": [
        "Okay, so in this case - we've gone with \"Sandworms \" from Dune.\n",
        "\n",
        "But there's also the Ents from Lord of the Rings, and it looks like we got documents from Lord of the Rings as well.\n",
        "\n",
        "Let's see if there's a way we can use the title metadata we added to filter the results we get!"
      ]
    },
    {
      "cell_type": "markdown",
      "metadata": {
        "id": "YUa5sHMsSV__"
      },
      "source": [
        "## Task 6: Auto Retriever Functional Tool\n",
        "\n",
        "This tool will leverage OpenAI's functional endpoint to select the correct metadata filter and query the filtered index - only looking at nodes with the desired metadata.\n",
        "\n",
        "A simplified diagram: ![image](https://i.imgur.com/AICDPav.png)"
      ]
    },
    {
      "cell_type": "markdown",
      "metadata": {
        "id": "Z2HQHY3pSV__"
      },
      "source": [
        "First, we need to create our `VectoreStoreInfo` object which will hold all the relevant metadata we need for each component (in this case title metadata).\n",
        "\n",
        "Notice that you need to include it in a text list."
      ]
    },
    {
      "cell_type": "code",
<<<<<<< HEAD
      "execution_count": 29,
=======
      "execution_count": 35,
>>>>>>> upstream/main
      "metadata": {
        "id": "KoAYxbdsSV__"
      },
      "outputs": [],
      "source": [
        "from llama_index.core.tools import FunctionTool\n",
        "from llama_index.core.vector_stores.types import (\n",
        "    VectorStoreInfo,\n",
        "    MetadataInfo,\n",
        "    ExactMatchFilter,\n",
        "    MetadataFilters,\n",
        ")\n",
        "from llama_index.core.retrievers import VectorIndexRetriever\n",
        "from llama_index.core.query_engine import RetrieverQueryEngine\n",
        "\n",
        "from typing import List, Tuple, Any\n",
        "from pydantic import BaseModel, Field\n",
        "\n",
        "top_k = 3\n",
        "\n",
        "vector_store_info = VectorStoreInfo(\n",
        "    content_info=\"semantic information about movies\",\n",
        "    metadata_info=[MetadataInfo(\n",
        "        name=\"title\",\n",
        "        type=\"str\",\n",
        "        description='title of the movie, one of [\"Dune (2021 film)\", \"Dune: Part Two\", \"The Lord of the Rings: The Fellowship of the Ring\", \"The Lord of the Rings: The Two Towers\"]'\n",
        "        )]\n",
        ")"
      ]
    },
    {
      "cell_type": "markdown",
      "metadata": {
        "id": "NEjK7jcsSV__"
      },
      "source": [
        "Now we'll create our base PyDantic object that we can use to ensure compatability with our application layer. This verifies that the response from the OpenAI endpoint conforms to this schema."
      ]
    },
    {
      "cell_type": "code",
<<<<<<< HEAD
      "execution_count": 30,
=======
      "execution_count": 36,
>>>>>>> upstream/main
      "metadata": {
        "id": "yixkwF8zSV__"
      },
      "outputs": [],
      "source": [
        "class AutoRetrieveModel(BaseModel):\n",
        "    query: str = Field(..., description=\"natural language query string\")\n",
        "    filter_key_list: List[str] = Field(\n",
        "        ..., description=\"List of metadata filter field names\"\n",
        "    )\n",
        "    filter_value_list: List[str] = Field(\n",
        "        ...,\n",
        "        description=(\n",
        "            \"List of metadata filter field values (corresponding to names specified in filter_key_list)\"\n",
        "        )\n",
        "    )"
      ]
    },
    {
      "cell_type": "markdown",
      "metadata": {
        "id": "Ep6ORS3FSV__"
      },
      "source": [
        "Now we can build our function that we will use to query the functional endpoint."
      ]
    },
    {
      "cell_type": "code",
<<<<<<< HEAD
      "execution_count": 31,
=======
      "execution_count": 37,
>>>>>>> upstream/main
      "metadata": {
        "id": "y8sPThxlSV__"
      },
      "outputs": [],
      "source": [
        "def auto_retrieve_fn(\n",
        "    query: str, filter_key_list: List[str], filter_value_list: List[str]\n",
        "):\n",
        "    \"\"\"Auto retrieval function.\n",
        "\n",
        "    Performs auto-retrieval from a vector database, and then applies a set of filters.\n",
        "\n",
        "    \"\"\"\n",
        "    query = query or \"Query\"\n",
        "\n",
        "    exact_match_filters = [\n",
        "        ExactMatchFilter(key=k, value=v)\n",
        "        for k, v in zip(filter_key_list, filter_value_list)\n",
        "    ]\n",
        "    retriever = VectorIndexRetriever(\n",
        "        index, filters=MetadataFilters(filters=exact_match_filters), top_k=top_k\n",
        "    )\n",
        "    query_engine = RetrieverQueryEngine.from_args(retriever)\n",
        "\n",
        "    response = query_engine.query(query)\n",
        "    return str(response)"
      ]
    },
    {
      "cell_type": "markdown",
      "metadata": {
        "id": "Yt4BV6oISV__"
      },
      "source": [
        "Now we need to wrap our system in a tool in order to integrate it into the larger application.\n",
        "\n",
        "Source Code Here:\n",
        "- [`FunctionTool`](https://github.com/jerryjliu/llama_index/blob/d24767b0812ac56104497d8f59095eccbe9f2b08/llama_index/tools/function_tool.py#L21)"
      ]
    },
    {
      "cell_type": "code",
<<<<<<< HEAD
      "execution_count": 32,
=======
      "execution_count": 38,
>>>>>>> upstream/main
      "metadata": {
        "id": "U4lS1NqeSV__"
      },
      "outputs": [],
      "source": [
        "description = f\"\"\"\\\n",
        "Use this tool to look up non-review based information about films.\n",
        "The vector database schema is given below:\n",
        "{vector_store_info.json()}\n",
        "\"\"\"\n",
        "\n",
        "auto_retrieve_tool = FunctionTool.from_defaults(\n",
        "    fn=auto_retrieve_fn,\n",
        "    name=\"semantic-film-info\",\n",
        "    description=description,\n",
        "    fn_schema=AutoRetrieveModel\n",
        ")"
      ]
    },
    {
      "cell_type": "markdown",
      "metadata": {
        "id": "Ka_CDeOHbF-J"
      },
      "source": [
        "####❓ Question #3:\n",
        "\n",
        "Is the text in the description of our `FunctionTool` important or not? Please explain your answer."
      ]
    },
    {
      "cell_type": "markdown",
      "metadata": {
        "id": "ZblimmXVSV__"
      },
      "source": [
        "All that's left to do is attach the tool to an OpenAIAgent and let it rip!\n",
        "\n",
        "Source Code Here:\n",
        "- [`OpenAIAgent`](https://github.com/jerryjliu/llama_index/blob/d24767b0812ac56104497d8f59095eccbe9f2b08/llama_index/agent/openai_agent.py#L361)"
      ]
    },
    {
      "cell_type": "code",
<<<<<<< HEAD
      "execution_count": 33,
=======
      "execution_count": 39,
>>>>>>> upstream/main
      "metadata": {
        "id": "W2hafCTxSV__"
      },
      "outputs": [],
      "source": [
        "from llama_index.core.agent import FunctionCallingAgentWorker\n",
        "\n",
        "agent_worker = FunctionCallingAgentWorker.from_tools(\n",
        "    tools=[auto_retrieve_tool],\n",
        "    verbose=True,\n",
        ")\n",
        "\n",
        "agent = agent_worker.as_agent()"
      ]
    },
    {
      "cell_type": "code",
<<<<<<< HEAD
      "execution_count": 34,
=======
      "execution_count": 40,
>>>>>>> upstream/main
      "metadata": {
        "colab": {
          "base_uri": "https://localhost:8080/"
        },
        "id": "DBJWDBK5SV__",
<<<<<<< HEAD
        "outputId": "7aa508c8-c6ce-41f9-892a-4c8ff6d06087"
=======
        "outputId": "3269853a-6f1d-4a39-e318-0bdfda15fe12"
>>>>>>> upstream/main
      },
      "outputs": [
        {
          "name": "stdout",
          "output_type": "stream",
          "text": [
            "Added user message to memory: Who starred in the 2021 film?\n",
<<<<<<< HEAD
            "=== Calling Function ===\n",
            "Calling function: semantic-film-info with args: {\"query\": \"Who starred in the film?\", \"filter_key_list\": [\"title\"], \"filter_value_list\": [\"Dune (2021 film)\"]}\n",
            "=== Function Output ===\n",
            "The film starred Timothée Chalamet, Rebecca Ferguson, Dave Bautista, Stellan Skarsgård, Charlotte Rampling, Oscar Isaac, Zendaya, Javier Bardem, Josh Brolin, Jason Momoa, David Dastmalchian, Stephen McKinley Henderson, Chang Chen, and Benjamin Clementine.\n",
            "=== LLM Response ===\n",
            "The 2021 film \"Dune\" featured an ensemble cast including:\n",
            "\n",
            "- Timothée Chalamet\n",
            "- Rebecca Ferguson\n",
            "- Dave Bautista\n",
            "- Stellan Skarsgård\n",
            "- Charlotte Rampling\n",
            "- Oscar Isaac\n",
            "- Zendaya\n",
            "- Javier Bardem\n",
            "- Josh Brolin\n",
            "- Jason Momoa\n",
            "- David Dastmalchian\n",
            "- Stephen McKinley Henderson\n",
            "- Chang Chen\n",
            "- Benjamin Clementine\n"
=======
            "=== LLM Response ===\n",
            "To answer your question about who starred in the 2021 film, I'll need to use the semantic-film-info tool to look up information about the movie. Based on the available films in the database, I assume you're referring to \"Dune (2021 film)\". Let me query the database for this information.\n",
            "=== Calling Function ===\n",
            "Calling function: semantic-film-info with args: {\"query\": \"Who starred in Dune (2021 film)?\", \"filter_key_list\": [\"title\"], \"filter_value_list\": [\"Dune (2021 film)\"]}\n",
            "=== Function Output ===\n",
            "The 2021 film adaptation of Dune features an ensemble cast including Timothée Chalamet, Rebecca Ferguson, Oscar Isaac, Josh Brolin, Stellan Skarsgård, Dave Bautista, Stephen McKinley Henderson, Zendaya, Chang Chen, Sharon Duncan-Brewster, Charlotte Rampling, Jason Momoa, and Javier Bardem.\n",
            "\n",
            "Some notable casting details include:\n",
            "\n",
            "- Timothée Chalamet as Paul Atreides\n",
            "- Rebecca Ferguson as Lady Jessica\n",
            "- Oscar Isaac as Duke Leto Atreides\n",
            "- Josh Brolin as Gurney Halleck\n",
            "- Jason Momoa as Duncan Idaho\n",
            "- Zendaya as Chani\n",
            "- Javier Bardem as Stilgar\n",
            "- Stellan Skarsgård as Baron Vladimir Harkonnen\n",
            "- Dave Bautista as Glossu Rabban\n",
            "- Charlotte Rampling as Gaius Helen Mohiam\n",
            "- Sharon Duncan-Brewster as Dr. Liet Kynes\n",
            "\n",
            "The film was directed by Denis Villeneuve and features a star-studded lineup of actors in various key roles from Frank Herbert's novel.\n"
          ]
        },
        {
          "name": "stderr",
          "output_type": "stream",
          "text": [
            "\u001b[34m\u001b[1mwandb\u001b[0m: Logged trace tree to W&B.\n"
          ]
        },
        {
          "name": "stdout",
          "output_type": "stream",
          "text": [
            "=== LLM Response ===\n",
            "Based on the information from the semantic-film-info tool, I can provide you with details about who starred in the 2021 film \"Dune\":\n",
            "\n",
            "The movie features an impressive ensemble cast, including:\n",
            "\n",
            "1. Timothée Chalamet as Paul Atreides (the main protagonist)\n",
            "2. Rebecca Ferguson as Lady Jessica (Paul's mother)\n",
            "3. Oscar Isaac as Duke Leto Atreides (Paul's father)\n",
            "4. Josh Brolin as Gurney Halleck\n",
            "5. Stellan Skarsgård as Baron Vladimir Harkonnen (the main antagonist)\n",
            "6. Dave Bautista as Glossu Rabban\n",
            "7. Zendaya as Chani\n",
            "8. Jason Momoa as Duncan Idaho\n",
            "9. Javier Bardem as Stilgar\n",
            "10. Charlotte Rampling as Gaius Helen Mohiam\n",
            "11. Sharon Duncan-Brewster as Dr. Liet Kynes\n",
            "\n",
            "Additionally, the cast includes Stephen McKinley Henderson and Chang Chen in supporting roles.\n",
            "\n",
            "This star-studded lineup brings to life the characters from Frank Herbert's classic science fiction novel under the direction of Denis Villeneuve. Each actor portrays a key character in the complex world of Dune, contributing to the epic scale of the film.\n"
>>>>>>> upstream/main
          ]
        }
      ],
      "source": [
        "response = agent.chat(\"Who starred in the 2021 film?\")"
      ]
    },
    {
      "cell_type": "code",
<<<<<<< HEAD
      "execution_count": 36,
=======
      "execution_count": 41,
>>>>>>> upstream/main
      "metadata": {
        "colab": {
          "base_uri": "https://localhost:8080/"
        },
        "id": "UZzs2PyDuJGX",
<<<<<<< HEAD
        "outputId": "cfcba867-2c9a-4dc9-9b54-abd5898de0b2"
=======
        "outputId": "2ab91ee7-bfc8-45d4-da76-838eba5ed54e"
>>>>>>> upstream/main
      },
      "outputs": [
        {
          "name": "stdout",
          "output_type": "stream",
          "text": [
            "Added user message to memory: Who are the giant beings that roam across the world in the movies?\n",
            "=== LLM Response ===\n",
<<<<<<< HEAD
            "In the movies:\n",
            "\n",
            "- **Dune (2021 film)**: The giant beings that roam across the world are the sandworms.\n",
            "- **The Lord of the Rings: The Two Towers**: The giant beings that roam across the world are the Ents, ancient tree-like creatures who are the guardians of the forest.\n",
            "\n",
            "There is no specific information provided about giant beings that roam across the world in \"The Lord of the Rings: The Fellowship of the Ring.\"\n"
=======
            "To answer your question about the giant beings that roam across the world in the movies, I'll need to use the semantic-film-info tool to gather information. Since you haven't specified which movie you're referring to, and the question could apply to multiple films in our database, I'll need to query for information about both the Dune films and The Lord of the Rings films, as they both feature large creatures in their worlds.\n",
            "=== Calling Function ===\n",
            "Calling function: semantic-film-info with args: {\"query\": \"What are the giant beings or creatures that roam across the world in the movies?\", \"filter_key_list\": [\"title\"], \"filter_value_list\": [\"Dune (2021 film)\", \"Dune: Part Two\", \"The Lord of the Rings: The Fellowship of the Ring\", \"The Lord of the Rings: The Two Towers\"]}\n",
            "=== Function Output ===\n",
            "The giant creatures that roam across the world in the movie are called sandworms. These massive beings are native to the planet Arrakis and play a significant role in the film's story and visuals. \n",
            "\n",
            "The sandworms were designed to be awe-inspiring and commanding of respect. Their appearance was inspired by various natural elements, including whales with baleen in their mouths, tree bark, and mud flats. The filmmakers wanted to portray them as almost deity-like creatures in the eyes of the Fremen people.\n",
            "\n",
            "Creating the sandworms involved significant design and production challenges. The film used a combination of practical sets and visual effects to bring these enormous creatures to life, ensuring they appeared both realistic and fantastical within the movie's universe.\n"
          ]
        },
        {
          "name": "stderr",
          "output_type": "stream",
          "text": [
            "\u001b[34m\u001b[1mwandb\u001b[0m: Logged trace tree to W&B.\n"
          ]
        },
        {
          "name": "stdout",
          "output_type": "stream",
          "text": [
            "=== LLM Response ===\n",
            "Based on the information provided by the semantic-film-info tool, I can answer your question about the giant beings that roam across the world in the movies:\n",
            "\n",
            "In the Dune films (both the 2021 film and its sequel), the giant beings you're referring to are called sandworms. These are massive creatures native to the planet Arrakis, where most of the story takes place. Here are some key points about the sandworms:\n",
            "\n",
            "1. Size and Appearance: The sandworms are truly gigantic creatures. They were designed to be awe-inspiring and command respect. Their appearance draws inspiration from various natural elements, including:\n",
            "   - Whales with baleen in their mouths\n",
            "   - Tree bark\n",
            "   - Mud flats\n",
            "\n",
            "2. Significance: These creatures play a crucial role in the film's story and visuals. They are not just background elements but integral to the plot and the ecology of Arrakis.\n",
            "\n",
            "3. Cultural Impact: To the Fremen people (the native inhabitants of Arrakis), the sandworms are viewed as almost deity-like creatures. This gives you an idea of their importance and the reverence they inspire.\n",
            "\n",
            "4. Design and Production: Creating these sandworms for the films was a significant challenge. The filmmakers used a combination of practical sets and visual effects to bring these enormous creatures to life, aiming to make them appear both realistic and fantastical within the movie's universe.\n",
            "\n",
            "It's worth noting that the query didn't return information about giant beings in The Lord of the Rings films, focusing instead on the sandworms from Dune. If you were curious about large creatures in The Lord of the Rings as well, you might need to ask a more specific question about those films.\n"
>>>>>>> upstream/main
          ]
        }
      ],
      "source": [
        "response = agent.chat(\"Who are the giant beings that roam across the world in the movies?\")"
      ]
    },
    {
      "cell_type": "markdown",
      "metadata": {
        "id": "v_GqxFCVbKch"
      },
      "source": [
        "# 🤝 Breakout Room #2"
      ]
    },
    {
      "cell_type": "markdown",
      "metadata": {
        "id": "yJcJL7VXSV__"
      },
      "source": [
        "## Quantitative RAG Pipeline with NL2SQL Tooling\n",
        "\n",
        "We'll walk through the steps of creating a natural language to SQL system in the following section.\n",
        "\n",
        "> NOTICE: This does not have parsing on the inputs or intermediary calls to ensure that users are using safe SQL queries. Use this with caution in a production environment without adding specific guardrails from either side of the application."
      ]
    },
    {
      "cell_type": "markdown",
      "metadata": {
        "id": "SsVcM0-4SV__"
      },
      "source": [
        "The next few steps should be largely straightforward, we'll want to:\n",
        "\n",
        "1. Read in our `.csv` files into `pd.DataFrame` objects\n",
        "2. Create an in-memory `sqlite` powered `sqlalchemy` engine\n",
        "3. Cast our `pd.DataFrame` objects to the SQL engine\n",
        "4. Create an `SQLDatabase` object through LlamaIndex\n",
        "5. Use that to create a `QueryEngineTool` that we can interact with through the `NLSQLTableQueryEngine`!\n",
        "\n",
        "If you get stuck, please consult the documentation."
      ]
    },
    {
      "cell_type": "code",
<<<<<<< HEAD
      "execution_count": 37,
=======
      "execution_count": 42,
>>>>>>> upstream/main
      "metadata": {
        "colab": {
          "base_uri": "https://localhost:8080/"
        },
        "id": "WwWOygTqlNBh",
<<<<<<< HEAD
        "outputId": "6cc8f96e-baec-48be-d9e8-fe3c36256378"
=======
        "outputId": "eb210413-d15a-44bc-9793-8b874fa9affd"
>>>>>>> upstream/main
      },
      "outputs": [
        {
          "name": "stdout",
          "output_type": "stream",
          "text": [
<<<<<<< HEAD
            "--2024-06-25 20:44:22--  https://raw.githubusercontent.com/AI-Maker-Space/DataRepository/main/dune1.csv\n",
=======
            "--2024-06-26 00:01:40--  https://raw.githubusercontent.com/AI-Maker-Space/DataRepository/main/dune1.csv\n",
>>>>>>> upstream/main
            "Resolving raw.githubusercontent.com (raw.githubusercontent.com)... 185.199.108.133, 185.199.109.133, 185.199.110.133, ...\n",
            "Connecting to raw.githubusercontent.com (raw.githubusercontent.com)|185.199.108.133|:443... connected.\n",
            "HTTP request sent, awaiting response... 200 OK\n",
            "Length: 133391 (130K) [text/plain]\n",
<<<<<<< HEAD
            "Saving to: ‘dune1.csv.3’\n",
            "\n",
            "dune1.csv.3         100%[===================>] 130.26K  --.-KB/s    in 0.03s   \n",
            "\n",
            "2024-06-25 20:44:22 (4.94 MB/s) - ‘dune1.csv.3’ saved [133391/133391]\n",
=======
            "Saving to: ‘dune1.csv’\n",
            "\n",
            "dune1.csv           100%[===================>] 130.26K  --.-KB/s    in 0.02s   \n",
            "\n",
            "2024-06-26 00:01:40 (7.67 MB/s) - ‘dune1.csv’ saved [133391/133391]\n",
>>>>>>> upstream/main
            "\n"
          ]
        }
      ],
      "source": [
        "!wget https://raw.githubusercontent.com/AI-Maker-Space/DataRepository/main/dune1.csv"
      ]
    },
    {
      "cell_type": "code",
<<<<<<< HEAD
      "execution_count": 38,
=======
      "execution_count": 43,
>>>>>>> upstream/main
      "metadata": {
        "colab": {
          "base_uri": "https://localhost:8080/"
        },
        "id": "TD_9LPL9lTlG",
<<<<<<< HEAD
        "outputId": "1aab3c8a-1821-4286-d05e-cd1ce4082c8d"
=======
        "outputId": "b520f7a1-de90-4e7e-993a-a41215c8b09d"
>>>>>>> upstream/main
      },
      "outputs": [
        {
          "name": "stdout",
          "output_type": "stream",
          "text": [
<<<<<<< HEAD
            "--2024-06-25 20:44:22--  https://raw.githubusercontent.com/AI-Maker-Space/DataRepository/main/dune2.csv\n",
=======
            "--2024-06-26 00:01:40--  https://raw.githubusercontent.com/AI-Maker-Space/DataRepository/main/dune2.csv\n",
>>>>>>> upstream/main
            "Resolving raw.githubusercontent.com (raw.githubusercontent.com)... 185.199.108.133, 185.199.109.133, 185.199.110.133, ...\n",
            "Connecting to raw.githubusercontent.com (raw.githubusercontent.com)|185.199.108.133|:443... connected.\n",
            "HTTP request sent, awaiting response... 200 OK\n",
            "Length: 111843 (109K) [text/plain]\n",
<<<<<<< HEAD
            "Saving to: ‘dune2.csv.3’\n",
            "\n",
            "dune2.csv.3         100%[===================>] 109.22K  --.-KB/s    in 0.03s   \n",
            "\n",
            "2024-06-25 20:44:23 (3.98 MB/s) - ‘dune2.csv.3’ saved [111843/111843]\n",
=======
            "Saving to: ‘dune2.csv’\n",
            "\n",
            "dune2.csv           100%[===================>] 109.22K  --.-KB/s    in 0.01s   \n",
            "\n",
            "2024-06-26 00:01:41 (7.99 MB/s) - ‘dune2.csv’ saved [111843/111843]\n",
>>>>>>> upstream/main
            "\n"
          ]
        }
      ],
      "source": [
        "!wget https://raw.githubusercontent.com/AI-Maker-Space/DataRepository/main/dune2.csv"
      ]
    },
    {
      "cell_type": "code",
<<<<<<< HEAD
      "execution_count": 39,
=======
      "execution_count": 44,
>>>>>>> upstream/main
      "metadata": {
        "colab": {
          "base_uri": "https://localhost:8080/"
        },
        "id": "QWFWvEdY1inS",
<<<<<<< HEAD
        "outputId": "35c0a109-e1e4-492e-89ab-b46dd95da206"
=======
        "outputId": "2f626100-2d1b-447c-ebf2-1088f88e962c"
>>>>>>> upstream/main
      },
      "outputs": [
        {
          "name": "stdout",
          "output_type": "stream",
          "text": [
<<<<<<< HEAD
            "--2024-06-25 20:44:23--  https://raw.githubusercontent.com/AI-Maker-Space/DataRepository/main/lotr_fotr.csv\n",
            "Resolving raw.githubusercontent.com (raw.githubusercontent.com)... 185.199.109.133, 185.199.108.133, 185.199.110.133, ...\n",
            "Connecting to raw.githubusercontent.com (raw.githubusercontent.com)|185.199.109.133|:443... connected.\n",
            "HTTP request sent, awaiting response... 200 OK\n",
            "Length: 172855 (169K) [text/plain]\n",
            "Saving to: ‘lotr_fotr.csv.3’\n",
            "\n",
            "\rlotr_fotr.csv.3       0%[                    ]       0  --.-KB/s               \rlotr_fotr.csv.3     100%[===================>] 168.80K  --.-KB/s    in 0.03s   \n",
            "\n",
            "2024-06-25 20:44:23 (5.05 MB/s) - ‘lotr_fotr.csv.3’ saved [172855/172855]\n",
=======
            "--2024-06-26 00:01:41--  https://raw.githubusercontent.com/AI-Maker-Space/DataRepository/main/lotr_fotr.csv\n",
            "Resolving raw.githubusercontent.com (raw.githubusercontent.com)... 185.199.108.133, 185.199.109.133, 185.199.110.133, ...\n",
            "Connecting to raw.githubusercontent.com (raw.githubusercontent.com)|185.199.108.133|:443... connected.\n",
            "HTTP request sent, awaiting response... 200 OK\n",
            "Length: 172855 (169K) [text/plain]\n",
            "Saving to: ‘lotr_fotr.csv’\n",
            "\n",
            "lotr_fotr.csv       100%[===================>] 168.80K  --.-KB/s    in 0.02s   \n",
            "\n",
            "2024-06-26 00:01:41 (7.51 MB/s) - ‘lotr_fotr.csv’ saved [172855/172855]\n",
>>>>>>> upstream/main
            "\n"
          ]
        }
      ],
      "source": [
        "!wget https://raw.githubusercontent.com/AI-Maker-Space/DataRepository/main/lotr_fotr.csv"
      ]
    },
    {
      "cell_type": "code",
<<<<<<< HEAD
      "execution_count": 40,
=======
      "execution_count": 45,
>>>>>>> upstream/main
      "metadata": {
        "colab": {
          "base_uri": "https://localhost:8080/"
        },
        "id": "Nto_jNmN1n-G",
<<<<<<< HEAD
        "outputId": "868cefc8-cd9a-4cc3-b9a3-01c9468db91d"
=======
        "outputId": "8eba2484-2fe4-447f-ac3a-62f45c07a291"
>>>>>>> upstream/main
      },
      "outputs": [
        {
          "name": "stdout",
          "output_type": "stream",
          "text": [
<<<<<<< HEAD
            "--2024-06-25 20:44:24--  https://raw.githubusercontent.com/AI-Maker-Space/DataRepository/main/lotr_tt.csv\n",
            "Resolving raw.githubusercontent.com (raw.githubusercontent.com)... 185.199.111.133, 185.199.110.133, 185.199.109.133, ...\n",
            "Connecting to raw.githubusercontent.com (raw.githubusercontent.com)|185.199.111.133|:443... connected.\n",
            "HTTP request sent, awaiting response... 200 OK\n",
            "Length: 114598 (112K) [text/plain]\n",
            "Saving to: ‘lotr_tt.csv.3’\n",
            "\n",
            "\rlotr_tt.csv.3         0%[                    ]       0  --.-KB/s               \rlotr_tt.csv.3       100%[===================>] 111.91K  --.-KB/s    in 0.02s   \n",
            "\n",
            "2024-06-25 20:44:24 (4.49 MB/s) - ‘lotr_tt.csv.3’ saved [114598/114598]\n",
=======
            "--2024-06-26 00:01:41--  https://raw.githubusercontent.com/AI-Maker-Space/DataRepository/main/lotr_tt.csv\n",
            "Resolving raw.githubusercontent.com (raw.githubusercontent.com)... 185.199.108.133, 185.199.109.133, 185.199.110.133, ...\n",
            "Connecting to raw.githubusercontent.com (raw.githubusercontent.com)|185.199.108.133|:443... connected.\n",
            "HTTP request sent, awaiting response... 200 OK\n",
            "Length: 114598 (112K) [text/plain]\n",
            "Saving to: ‘lotr_tt.csv’\n",
            "\n",
            "lotr_tt.csv         100%[===================>] 111.91K  --.-KB/s    in 0.02s   \n",
            "\n",
            "2024-06-26 00:01:41 (5.53 MB/s) - ‘lotr_tt.csv’ saved [114598/114598]\n",
>>>>>>> upstream/main
            "\n"
          ]
        }
      ],
      "source": [
        "!wget https://raw.githubusercontent.com/AI-Maker-Space/DataRepository/main/lotr_tt.csv"
      ]
    },
    {
      "cell_type": "markdown",
      "metadata": {
        "id": "8PUg-ZuTSWAC"
      },
      "source": [
        "#### Read `.csv` Into Pandas"
      ]
    },
    {
      "cell_type": "code",
<<<<<<< HEAD
      "execution_count": 41,
=======
      "execution_count": 46,
>>>>>>> upstream/main
      "metadata": {
        "id": "52Hd8PM4SWAC"
      },
      "outputs": [],
      "source": [
        "import pandas as pd\n",
        "\n",
        "dune1 = pd.read_csv(\"./dune1.csv\")\n",
        "dune2 = pd.read_csv(\"./dune2.csv\")\n",
        "lotr_fotr = pd.read_csv(\"./lotr_fotr.csv\")\n",
        "lotr_tt = pd.read_csv(\"./lotr_tt.csv\")"
      ]
    },
    {
      "cell_type": "markdown",
      "metadata": {
        "id": "fPTNyqmpSWAC"
      },
      "source": [
        "#### Create SQLAlchemy engine with SQLite"
      ]
    },
    {
      "cell_type": "code",
<<<<<<< HEAD
      "execution_count": 42,
=======
      "execution_count": 47,
>>>>>>> upstream/main
      "metadata": {
        "id": "4lfuPKYBSWAC"
      },
      "outputs": [],
      "source": [
        "from sqlalchemy import create_engine\n",
        "\n",
        "engine = create_engine(\"sqlite+pysqlite:///:memory:\")"
      ]
    },
    {
      "cell_type": "markdown",
      "metadata": {
        "id": "iJiYiSuHSWAC"
      },
      "source": [
        "#### Convert `pd.DataFrame` to SQL tables"
      ]
    },
    {
      "cell_type": "code",
<<<<<<< HEAD
      "execution_count": 43,
=======
      "execution_count": 48,
>>>>>>> upstream/main
      "metadata": {
        "colab": {
          "base_uri": "https://localhost:8080/"
        },
        "id": "W-96asUHSWAC",
<<<<<<< HEAD
        "outputId": "2ce3fbf9-b97d-43db-f624-15cd70547534"
=======
        "outputId": "f0d1f08a-2509-4e93-b3f9-a3a21ddff92f"
>>>>>>> upstream/main
      },
      "outputs": [
        {
          "data": {
            "text/plain": [
              "274"
            ]
          },
<<<<<<< HEAD
          "execution_count": 43,
=======
          "execution_count": 48,
>>>>>>> upstream/main
          "metadata": {},
          "output_type": "execute_result"
        }
      ],
      "source": [
        "dune1.to_sql(\n",
        "  \"Dune (2021 film)\",\n",
        "  engine\n",
        ")"
      ]
    },
    {
      "cell_type": "code",
<<<<<<< HEAD
      "execution_count": 44,
=======
      "execution_count": 49,
>>>>>>> upstream/main
      "metadata": {
        "colab": {
          "base_uri": "https://localhost:8080/"
        },
        "id": "ZwOi1RE1SWAC",
<<<<<<< HEAD
        "outputId": "b5d8d059-8041-422f-a482-a71db08d9d91"
=======
        "outputId": "23ac88ff-ed1a-4ef1-f885-17e263aa8f63"
>>>>>>> upstream/main
      },
      "outputs": [
        {
          "data": {
            "text/plain": [
              "175"
            ]
          },
<<<<<<< HEAD
          "execution_count": 44,
=======
          "execution_count": 49,
>>>>>>> upstream/main
          "metadata": {},
          "output_type": "execute_result"
        }
      ],
      "source": [
        "dune2.to_sql(\n",
        "  \"Dune: Part Two\",\n",
        "  engine\n",
        ")"
      ]
    },
    {
      "cell_type": "code",
<<<<<<< HEAD
      "execution_count": 45,
=======
      "execution_count": 50,
>>>>>>> upstream/main
      "metadata": {
        "colab": {
          "base_uri": "https://localhost:8080/"
        },
        "id": "3R6FTIki4Q51",
<<<<<<< HEAD
        "outputId": "70c20a04-604b-458d-dc4e-40f54d442cee"
=======
        "outputId": "ce50ac65-4e44-489c-cf3e-98aec674b51a"
>>>>>>> upstream/main
      },
      "outputs": [
        {
          "data": {
            "text/plain": [
              "250"
            ]
          },
<<<<<<< HEAD
          "execution_count": 45,
=======
          "execution_count": 50,
>>>>>>> upstream/main
          "metadata": {},
          "output_type": "execute_result"
        }
      ],
      "source": [
        "lotr_fotr.to_sql(\n",
        "  \"The Lord of the Rings: The Fellowship of the Ring\",\n",
        "  engine\n",
        ")"
      ]
    },
    {
      "cell_type": "code",
<<<<<<< HEAD
      "execution_count": 46,
=======
      "execution_count": 51,
>>>>>>> upstream/main
      "metadata": {
        "colab": {
          "base_uri": "https://localhost:8080/"
        },
        "id": "5CiP8dwV4SFZ",
<<<<<<< HEAD
        "outputId": "8cd5325e-7f85-4228-89ac-c2e6b8990ac2"
=======
        "outputId": "747a2b16-434f-4b37-bf95-fe7acd2ecddb"
>>>>>>> upstream/main
      },
      "outputs": [
        {
          "data": {
            "text/plain": [
              "149"
            ]
          },
<<<<<<< HEAD
          "execution_count": 46,
=======
          "execution_count": 51,
>>>>>>> upstream/main
          "metadata": {},
          "output_type": "execute_result"
        }
      ],
      "source": [
        "lotr_tt.to_sql(\n",
        "  \"The Lord of the Rings: The Two Towers\",\n",
        "  engine\n",
        ")"
      ]
    },
    {
      "cell_type": "markdown",
      "metadata": {
        "id": "pibA9qT7SWAC"
      },
      "source": [
        "#### Construct a `SQLDatabase` index\n",
        "\n",
        "Source Code Here:\n",
        "- [`SQLDatabase`](https://github.com/jerryjliu/llama_index/blob/d24767b0812ac56104497d8f59095eccbe9f2b08/llama_index/langchain_helpers/sql_wrapper.py#L9)"
      ]
    },
    {
      "cell_type": "code",
<<<<<<< HEAD
      "execution_count": 47,
=======
      "execution_count": 52,
>>>>>>> upstream/main
      "metadata": {
        "id": "yeDYpR1LSWAD"
      },
      "outputs": [],
      "source": [
        "from llama_index.core import SQLDatabase\n",
        "\n",
        "sql_database = SQLDatabase(\n",
        "    engine=engine,\n",
        "    include_tables=movie_list\n",
        ")"
      ]
    },
    {
      "cell_type": "markdown",
      "metadata": {
        "id": "-7VfZBenSWAD"
      },
      "source": [
        "#### Create the NLSQLTableQueryEngine interface for all added SQL tables\n",
        "\n",
        "Source Code Here:\n",
        "- [`NLSQLTableQueryEngine`](https://github.com/jerryjliu/llama_index/blob/d24767b0812ac56104497d8f59095eccbe9f2b08/llama_index/indices/struct_store/sql_query.py#L75C1-L75C1)"
      ]
    },
    {
      "cell_type": "code",
<<<<<<< HEAD
      "execution_count": 48,
=======
      "execution_count": 53,
>>>>>>> upstream/main
      "metadata": {
        "id": "zQWSdMtrSWAD"
      },
      "outputs": [],
      "source": [
        "from llama_index.core.indices.struct_store.sql_query import NLSQLTableQueryEngine\n",
        "\n",
        "sql_query_engine = NLSQLTableQueryEngine(\n",
        "    sql_database=sql_database,\n",
        "    tables=movie_list,\n",
        ")"
      ]
    },
    {
      "cell_type": "markdown",
      "metadata": {
        "id": "yu8WfwuTSWAD"
      },
      "source": [
        "#### Wrap It All Up in a `QueryEngineTool`\n",
        "\n",
        "You'll want to ensure you have a descriptive...description!\n",
        "\n",
        "This is what will help the LLM decide which table to use when querying!\n",
        "\n",
        "Sorce Code Here:\n",
        "\n",
        "- [`QueryEngineTool`](https://github.com/jerryjliu/llama_index/blob/d24767b0812ac56104497d8f59095eccbe9f2b08/llama_index/tools/query_engine.py#L13)"
      ]
    },
    {
      "cell_type": "markdown",
      "metadata": {
        "id": "9sjbHnA1bQBG"
      },
      "source": [
        "####🏗️ Activity #1:\n",
        "\n",
        "Please write a Natural Language Description for the tables that we are using today.\n",
        "\n",
        "Here is an example:\n",
        "\n",
        "```\n",
        "This tool should be used to answer any and all review related inquiries by translating a natural language query into a SQL query with access to tables:\n",
        "'Dune (2021 film)' - containing info. about the first movie in the Dune series,\n",
        "'Dune: Part Two'- containing info. about about the second movie in the Dune series,\n",
        "'The Lord of the Rings: The Fellowship of the Ring' - containing info. about the first movie in the Lord of the Ring series,\n",
        "'The Lord of the Rings: The Two Towers' - containing info. the second movie in the Lord of the Ring series,\n",
        "```"
      ]
    },
    {
      "cell_type": "code",
<<<<<<< HEAD
      "execution_count": 51,
=======
      "execution_count": 54,
>>>>>>> upstream/main
      "metadata": {
        "id": "4n567cXVVCtX"
      },
      "outputs": [],
      "source": [
        "DESCRIPTION = \"\"\"\\\n",
        "\"\"\""
      ]
    },
    {
      "cell_type": "code",
<<<<<<< HEAD
      "execution_count": 52,
=======
      "execution_count": 55,
>>>>>>> upstream/main
      "metadata": {
        "id": "y-mmcBbLSWAD"
      },
      "outputs": [],
      "source": [
        "from llama_index.core.tools.query_engine import QueryEngineTool\n",
        "\n",
        "sql_tool = QueryEngineTool.from_defaults(\n",
        "    query_engine=sql_query_engine,\n",
        "    name=\"sql-query\",\n",
        "    description=DESCRIPTION,\n",
        ")"
      ]
    },
    {
      "cell_type": "code",
<<<<<<< HEAD
      "execution_count": 53,
=======
      "execution_count": 56,
>>>>>>> upstream/main
      "metadata": {
        "id": "feOrlq4XSWAD"
      },
      "outputs": [],
      "source": [
        "agent_worker = FunctionCallingAgentWorker.from_tools(\n",
        "    tools=[sql_tool],\n",
        "    verbose=True\n",
        ")\n",
        "\n",
        "agent = agent_worker.as_agent()"
      ]
    },
    {
      "cell_type": "code",
<<<<<<< HEAD
      "execution_count": 54,
=======
      "execution_count": 57,
>>>>>>> upstream/main
      "metadata": {
        "colab": {
          "base_uri": "https://localhost:8080/"
        },
        "id": "iT4G6stBSWAD",
<<<<<<< HEAD
        "outputId": "94f8b39c-1584-4602-ed49-297e214b6aed"
=======
        "outputId": "5920cfe6-1563-45b0-99b6-95caedba50c7"
>>>>>>> upstream/main
      },
      "outputs": [
        {
          "name": "stdout",
          "output_type": "stream",
          "text": [
            "Added user message to memory: What is the average rating of the 2nd Lord of the Rings movie?\n",
<<<<<<< HEAD
            "=== Calling Function ===\n",
            "Calling function: sql-query with args: {\"input\": \"SELECT AVG(rating) as average_rating FROM \\\"The Lord of the Rings: The Two Towers\\\";\"}\n",
            "=== Function Output ===\n",
            "The average rating for \"The Lord of the Rings: The Two Towers\" is approximately 9.18.\n",
            "=== LLM Response ===\n",
            "The average rating of \"The Lord of the Rings: The Two Towers\" is approximately 9.18.\n"
=======
            "=== LLM Response ===\n",
            "To answer this question, we need to query the database for information about the second Lord of the Rings movie, which is \"The Lord of the Rings: The Two Towers\". Let's use the SQL query tool to retrieve this information.\n",
            "=== Calling Function ===\n",
            "Calling function: sql-query with args: {\"input\": \"SELECT AVG(rating) as average_rating FROM `The Lord of the Rings: The Two Towers`\"}\n",
            "=== Function Output ===\n",
            "I apologize, but I'm unable to provide an accurate response based on the given query and results. The SQL query appears to be incomplete or invalid, and an error was returned instead of actual data. \n",
            "\n",
            "To properly answer a question about the average rating for \"The Lord of the Rings: The Two Towers\", we would need:\n",
            "\n",
            "1. A valid SQL query\n",
            "2. A database with a table containing rating information for the movie\n",
            "3. The actual results of running that query\n",
            "\n",
            "Without this information, I can't synthesize a meaningful response about the average rating. If you have the correct query and results, I'd be happy to help interpret that data. Alternatively, if you have a specific question about the movie's ratings, I could try to provide general information based on publicly available data sources, though it wouldn't be based on the SQL query provided.\n",
            "=== LLM Response ===\n",
            "I apologize for the confusion. It seems that the SQL query didn't return the expected results. This could be due to various reasons, such as the table structure being different from what we assumed or the data not being available in the format we expected.\n",
            "\n",
            "Since we don't have direct access to the correct table structure, let me try a more general query to see what information we can retrieve about \"The Lord of the Rings: The Two Towers\".\n",
            "=== Calling Function ===\n",
            "Calling function: sql-query with args: {\"input\": \"SELECT * FROM `The Lord of the Rings: The Two Towers` LIMIT 1\"}\n",
            "=== Function Output ===\n",
            "Based on the query results, I can provide a summary of the top-rated review for \"The Lord of the Rings: The Two Towers\":\n",
            "\n",
            "The highest-rated review comes from a user named \"Loving_Silence\" who gave the movie a perfect 10 out of 10 rating. Their review is titled \"An Epic in every sense of the word.\" \n",
            "\n",
            "In their review, Loving_Silence praises director Peter Jackson for outdoing himself with this second installment of the trilogy. They express that Jackson proves he is not a \"one-hit wonder\" after the success of the first film, \"The Fellowship of the Ring.\"\n",
            "\n",
            "The reviewer suggests that \"The Two Towers\" may even surpass its predecessor in quality. Unfortunately, the full review is cut off in the provided data, but it's clear that the reviewer has an extremely positive opinion of the film, considering it an epic and giving it the highest possible rating.\n",
            "\n",
            "This review indicates that \"The Lord of the Rings: The Two Towers\" was very well-received by at least some viewers, who found it to be an impressive continuation of the trilogy.\n"
          ]
        },
        {
          "name": "stderr",
          "output_type": "stream",
          "text": [
            "\u001b[34m\u001b[1mwandb\u001b[0m: Logged trace tree to W&B.\n"
          ]
        },
        {
          "name": "stdout",
          "output_type": "stream",
          "text": [
            "=== LLM Response ===\n",
            "Thank you for your patience. I apologize that I couldn't provide the exact average rating for \"The Lord of the Rings: The Two Towers\" as initially requested. However, based on the information we were able to retrieve, I can share some insights about the movie's reception:\n",
            "\n",
            "1. We have access to review data for the movie, which includes individual ratings and review content.\n",
            "\n",
            "2. The highest-rated review in our sample gave the movie a perfect score of 10 out of 10.\n",
            "\n",
            "3. This top review suggests that the movie was very well-received, with the reviewer considering it an \"epic\" and potentially even better than its predecessor.\n",
            "\n",
            "While we can't calculate the exact average rating from this limited data, we can infer that the movie was highly regarded by at least some viewers. The perfect score from the top review indicates that the movie likely has a high average rating overall, though we'd need more data to confirm this.\n",
            "\n",
            "If you'd like more specific information about the movie's ratings or reviews, please let me know, and I can try to query the database for additional details. Alternatively, if you have questions about other aspects of the movie, I'd be happy to help with those as well.\n"
>>>>>>> upstream/main
          ]
        }
      ],
      "source": [
        "response = agent.chat(\"What is the average rating of the 2nd Lord of the Rings movie?\")"
      ]
    },
    {
      "cell_type": "code",
<<<<<<< HEAD
      "execution_count": 55,
=======
      "execution_count": 58,
>>>>>>> upstream/main
      "metadata": {
        "colab": {
          "base_uri": "https://localhost:8080/"
        },
        "id": "NhsoxOpkSWAD",
<<<<<<< HEAD
        "outputId": "84742e5b-e379-474f-e2f3-035ec9d13463"
=======
        "outputId": "99d95629-db2f-496a-b431-f5fc08c207f6"
>>>>>>> upstream/main
      },
      "outputs": [
        {
          "name": "stdout",
          "output_type": "stream",
          "text": [
<<<<<<< HEAD
            "The average rating of \"The Lord of the Rings: The Two Towers\" is approximately 9.18.\n"
=======
            "Thank you for your patience. I apologize that I couldn't provide the exact average rating for \"The Lord of the Rings: The Two Towers\" as initially requested. However, based on the information we were able to retrieve, I can share some insights about the movie's reception:\n",
            "\n",
            "1. We have access to review data for the movie, which includes individual ratings and review content.\n",
            "\n",
            "2. The highest-rated review in our sample gave the movie a perfect score of 10 out of 10.\n",
            "\n",
            "3. This top review suggests that the movie was very well-received, with the reviewer considering it an \"epic\" and potentially even better than its predecessor.\n",
            "\n",
            "While we can't calculate the exact average rating from this limited data, we can infer that the movie was highly regarded by at least some viewers. The perfect score from the top review indicates that the movie likely has a high average rating overall, though we'd need more data to confirm this.\n",
            "\n",
            "If you'd like more specific information about the movie's ratings or reviews, please let me know, and I can try to query the database for additional details. Alternatively, if you have questions about other aspects of the movie, I'd be happy to help with those as well.\n"
>>>>>>> upstream/main
          ]
        }
      ],
      "source": [
        "print(str(response))"
      ]
    },
    {
      "cell_type": "code",
<<<<<<< HEAD
      "execution_count": 56,
=======
      "execution_count": 59,
>>>>>>> upstream/main
      "metadata": {
        "colab": {
          "base_uri": "https://localhost:8080/"
        },
        "id": "7FiAS6sF7DoJ",
<<<<<<< HEAD
        "outputId": "d14d4382-2fe9-4092-c9fd-b19344d4f303"
=======
        "outputId": "e871fa96-ec2b-485f-f6ba-7113b323b94b"
>>>>>>> upstream/main
      },
      "outputs": [
        {
          "name": "stdout",
          "output_type": "stream",
          "text": [
            "Added user message to memory: What movie series has better reviews, Lord of the Rings or Dune?\n",
<<<<<<< HEAD
            "=== Calling Function ===\n",
            "Calling function: sql-query with args: {\"input\": \"SELECT AVG(rating) as average_rating FROM \\\"The Lord of the Rings: The Fellowship of the Ring\\\" UNION ALL SELECT AVG(rating) as average_rating FROM \\\"The Lord of the Rings: The Two Towers\\\";\"}\n",
            "=== Function Output ===\n",
            "It appears that there was an error in the SQL query provided. The error message indicates that the SQL statement is invalid. To correct this, we need to ensure that the table names and column names are correctly referenced and that the SQL syntax is accurate.\n",
            "\n",
            "Here is a corrected version of the SQL query:\n",
            "\n",
            "```sql\n",
            "SELECT AVG(rating) as average_rating FROM \"The_Lord_of_the_Rings_The_Fellowship_of_the_Ring\"\n",
            "UNION ALL\n",
            "SELECT AVG(rating) as average_rating FROM \"The_Lord_of_the_Rings_The_Two_Towers\";\n",
            "```\n",
            "\n",
            "Assuming the corrected query runs successfully, the response would provide the average ratings for both movies. However, since we don't have the actual data, we can't provide the exact average ratings. \n",
            "\n",
            "If you run the corrected query in your database, you should receive two rows of results, each containing the average rating for one of the movies. Here is an example of what the output might look like:\n",
            "\n",
            "```\n",
            "average_rating\n",
            "---------------\n",
            "8.8\n",
            "8.7\n",
            "```\n",
            "\n",
            "In this example, the average rating for \"The Lord of the Rings: The Fellowship of the Ring\" is 8.8, and the average rating for \"The Lord of the Rings: The Two Towers\" is 8.7. Please run the corrected query in your database to get the actual average ratings.\n",
            "=== Calling Function ===\n",
            "Calling function: sql-query with args: {\"input\": \"SELECT AVG(rating) as average_rating FROM \\\"Dune (2021 film)\\\" UNION ALL SELECT AVG(rating) as average_rating FROM \\\"Dune: Part Two\\\";\"}\n",
            "=== Function Output ===\n",
            "It appears that there was an error in the SQL query provided. The error message indicates that the SQL statement is invalid. To correct this, we need to ensure that the SQL syntax is correct and that the table names and column names are properly referenced.\n",
            "\n",
            "Here is a corrected version of the SQL query:\n",
            "\n",
            "```sql\n",
            "SELECT AVG(rating) as average_rating FROM \"Dune (2021 film)\"\n",
            "UNION ALL\n",
            "SELECT AVG(rating) as average_rating FROM \"Dune: Part Two\";\n",
            "```\n",
            "\n",
            "Assuming the corrected query runs successfully, it would return two rows, each containing the average rating for \"Dune (2021 film)\" and \"Dune: Part Two\" respectively.\n",
            "\n",
            "If you need a synthesized response based on the expected results of the corrected query, it would look something like this:\n",
            "\n",
            "\"The average rating for 'Dune (2021 film)' is X, while the average rating for 'Dune: Part Two' is Y.\"\n",
            "\n",
            "Please replace X and Y with the actual average ratings obtained from the query results.\n",
            "=== Calling Function ===\n",
            "Calling function: sql-query with args: {\"input\": \"SELECT AVG(rating) as average_rating FROM \\\"The Lord of the Rings: The Fellowship of the Ring\\\";\"}\n",
            "=== Function Output ===\n",
            "The average rating for \"The Lord of the Rings: The Fellowship of the Ring\" is approximately 9.87.\n",
            "=== Calling Function ===\n",
            "Calling function: sql-query with args: {\"input\": \"SELECT AVG(rating) as average_rating FROM \\\"The Lord of the Rings: The Two Towers\\\";\"}\n",
            "=== Function Output ===\n",
            "The average rating for \"The Lord of the Rings: The Two Towers\" is approximately 9.18.\n",
            "=== Calling Function ===\n",
            "Calling function: sql-query with args: {\"input\": \"SELECT AVG(rating) as average_rating FROM \\\"Dune (2021 film)\\\";\"}\n",
            "=== Function Output ===\n",
            "The average rating for the film \"Dune (2021)\" is approximately 8.34.\n",
            "=== Calling Function ===\n",
            "Calling function: sql-query with args: {\"input\": \"SELECT AVG(rating) as average_rating FROM \\\"Dune: Part Two\\\";\"}\n",
            "=== Function Output ===\n",
            "The average rating for \"Dune: Part Two\" is approximately 8.71.\n",
            "=== LLM Response ===\n",
            "Here are the average ratings for the movies in each series:\n",
            "\n",
            "**Lord of the Rings:**\n",
            "- The Fellowship of the Ring: 9.87\n",
            "- The Two Towers: 9.18\n",
            "\n",
            "**Dune:**\n",
            "- Dune (2021): 8.34\n",
            "- Dune: Part Two: 8.71\n",
            "\n",
            "Based on these average ratings, the Lord of the Rings series has better reviews compared to the Dune series.\n"
=======
            "=== LLM Response ===\n",
            "To answer this question, we'll need to compare the reviews of both the Lord of the Rings and Dune movie series. We'll query the database for information about the movies from both series and then analyze the results. Let's start by getting data for each movie.\n",
            "=== Calling Function ===\n",
            "Calling function: sql-query with args: {\"input\": \"SELECT 'LOTR: Fellowship' AS movie, AVG(rating) AS avg_rating, COUNT(*) AS review_count\\nFROM `The Lord of the Rings: The Fellowship of the Ring`\\nUNION ALL\\nSELECT 'LOTR: Two Towers' AS movie, AVG(rating) AS avg_rating, COUNT(*) AS review_count\\nFROM `The Lord of the Rings: The Two Towers`\\nUNION ALL\\nSELECT 'Dune (2021)' AS movie, AVG(rating) AS avg_rating, COUNT(*) AS review_count\\nFROM `Dune (2021 film)`\\nUNION ALL\\nSELECT 'Dune: Part Two' AS movie, AVG(rating) AS avg_rating, COUNT(*) AS review_count\\nFROM `Dune: Part Two`\"}\n",
            "=== Function Output ===\n",
            "I apologize, but I'm unable to provide a meaningful response based on the query results, as there was an error in executing the SQL statement. The error message indicates that the SQL statement is invalid. \n",
            "\n",
            "This could be due to a few reasons:\n",
            "\n",
            "1. The table names might be incorrect or not exist in the database.\n",
            "2. There might be a syntax error in the SQL statement.\n",
            "3. The query might be incomplete, as the last line seems to be cut off (missing a closing backtick).\n",
            "\n",
            "Without valid query results, I can't synthesize a response about the average ratings or review counts for the Lord of the Rings movies or the Dune films. \n",
            "\n",
            "To get the information you're looking for, we would need to correct the SQL query and successfully execute it. Once we have the correct results, I'd be happy to analyze and summarize the data for you.\n",
            "\n",
            "Is there any way you could verify the table names and provide a corrected SQL query? Once we have valid results, I can provide a meaningful analysis of the movie ratings and review counts.\n",
            "=== LLM Response ===\n",
            "I apologize for the inconvenience. It seems that we're having some issues with the SQL query. Let's try a different approach by querying each movie individually to see if we can get some information. We'll start with one movie from each series:\n",
            "=== Calling Function ===\n",
            "Calling function: sql-query with args: {\"input\": \"SELECT AVG(rating) AS avg_rating, COUNT(*) AS review_count FROM `The Lord of the Rings: The Fellowship of the Ring`\"}\n",
            "=== Function Output ===\n",
            "I apologize, but I'm unable to provide a specific response based on the query results, as there was an error executing the SQL statement. The error message indicates that the SQL query is invalid.\n",
            "\n",
            "The query appears to be attempting to calculate the average rating and count the number of reviews for the movie \"The Lord of the Rings: The Fellowship of the Ring\". However, without access to the actual database structure and without a valid SQL query, I cannot provide accurate information.\n",
            "\n",
            "To properly answer questions about this movie's ratings and review count, we would need:\n",
            "\n",
            "1. A valid SQL query\n",
            "2. Access to the correct database\n",
            "3. A table containing review data for the movie\n",
            "\n",
            "If you have the correct table name and database structure, you may want to try reformulating the query. A typical valid SQL query for this kind of information might look like:\n",
            "\n",
            "```sql\n",
            "SELECT AVG(rating) AS avg_rating, COUNT(*) AS review_count \n",
            "FROM movie_reviews\n",
            "WHERE movie_title = 'The Lord of the Rings: The Fellowship of the Ring';\n",
            "```\n",
            "\n",
            "This assumes there's a table called \"movie_reviews\" with columns for \"rating\" and \"movie_title\". The actual table and column names would need to match your specific database structure.\n",
            "\n",
            "Without the correct data, I can only speak generally about the movie. \"The Lord of the Rings: The Fellowship of the Ring\" is a highly regarded film that typically receives positive reviews, but I cannot provide specific rating information or review counts based on the given query.\n"
          ]
        },
        {
          "name": "stderr",
          "output_type": "stream",
          "text": [
            "\u001b[34m\u001b[1mwandb\u001b[0m: Logged trace tree to W&B.\n"
          ]
        },
        {
          "name": "stdout",
          "output_type": "stream",
          "text": [
            "=== LLM Response ===\n",
            "I apologize once again for the difficulties we're encountering with the SQL queries. It seems that we're unable to directly access or query the database as we initially thought. Given these limitations, I'll provide a comparison of the Lord of the Rings and Dune series based on generally available information, rather than specific data from the database we were trying to query.\n",
            "\n",
            "Lord of the Rings series:\n",
            "1. The Lord of the Rings trilogy, directed by Peter Jackson, is widely regarded as one of the most successful and critically acclaimed film series of all time.\n",
            "2. All three films (The Fellowship of the Ring, The Two Towers, and The Return of the King) received high praise from both critics and audiences.\n",
            "3. The Return of the King, the final installment, won 11 Academy Awards, including Best Picture, tying the record for most Oscars won by a single film.\n",
            "4. On aggregate review sites like Rotten Tomatoes and Metacritic, all three films consistently score above 90%, indicating universal acclaim.\n",
            "\n",
            "Dune series:\n",
            "1. The Dune series we're likely referring to includes the 2021 film \"Dune\" (also known as \"Dune: Part One\") and its sequel \"Dune: Part Two\" (2024), both directed by Denis Villeneuve.\n",
            "2. \"Dune\" (2021) was very well-received by critics and audiences, praised for its visual spectacle and faithful adaptation of the source material.\n",
            "3. On aggregate review sites, \"Dune\" (2021) typically scores in the 80-90% range, indicating very positive reviews, though slightly lower than the Lord of the Rings films.\n",
            "4. \"Dune: Part Two\" (2024) has also been highly praised upon its release, with many critics considering it an improvement over the first part.\n",
            "\n",
            "Comparison:\n",
            "1. Critical Reception: Both series are critically acclaimed, but the Lord of the Rings trilogy generally edges out Dune in terms of overall critical consensus and awards recognition.\n",
            "2. Audience Reception: Both series are beloved by audiences, but the Lord of the Rings has had more time to build a larger and more dedicated fanbase.\n",
            "3. Cultural Impact: The Lord of the Rings trilogy has had a more significant cultural impact, largely due to its earlier release and\n"
>>>>>>> upstream/main
          ]
        }
      ],
      "source": [
        "response = agent.chat(\"What movie series has better reviews, Lord of the Rings or Dune?\")"
      ]
    },
    {
      "cell_type": "code",
<<<<<<< HEAD
      "execution_count": 57,
=======
      "execution_count": 60,
>>>>>>> upstream/main
      "metadata": {
        "colab": {
          "base_uri": "https://localhost:8080/"
        },
        "id": "qxDA2Gjm7dDZ",
<<<<<<< HEAD
        "outputId": "41726e3c-9441-4875-ce33-7b8824684553"
=======
        "outputId": "ab5bfa6c-0dc1-474f-f3d2-36db8d3abb74"
>>>>>>> upstream/main
      },
      "outputs": [
        {
          "name": "stdout",
          "output_type": "stream",
          "text": [
<<<<<<< HEAD
            "Here are the average ratings for the movies in each series:\n",
            "\n",
            "**Lord of the Rings:**\n",
            "- The Fellowship of the Ring: 9.87\n",
            "- The Two Towers: 9.18\n",
            "\n",
            "**Dune:**\n",
            "- Dune (2021): 8.34\n",
            "- Dune: Part Two: 8.71\n",
            "\n",
            "Based on these average ratings, the Lord of the Rings series has better reviews compared to the Dune series.\n"
=======
            "I apologize once again for the difficulties we're encountering with the SQL queries. It seems that we're unable to directly access or query the database as we initially thought. Given these limitations, I'll provide a comparison of the Lord of the Rings and Dune series based on generally available information, rather than specific data from the database we were trying to query.\n",
            "\n",
            "Lord of the Rings series:\n",
            "1. The Lord of the Rings trilogy, directed by Peter Jackson, is widely regarded as one of the most successful and critically acclaimed film series of all time.\n",
            "2. All three films (The Fellowship of the Ring, The Two Towers, and The Return of the King) received high praise from both critics and audiences.\n",
            "3. The Return of the King, the final installment, won 11 Academy Awards, including Best Picture, tying the record for most Oscars won by a single film.\n",
            "4. On aggregate review sites like Rotten Tomatoes and Metacritic, all three films consistently score above 90%, indicating universal acclaim.\n",
            "\n",
            "Dune series:\n",
            "1. The Dune series we're likely referring to includes the 2021 film \"Dune\" (also known as \"Dune: Part One\") and its sequel \"Dune: Part Two\" (2024), both directed by Denis Villeneuve.\n",
            "2. \"Dune\" (2021) was very well-received by critics and audiences, praised for its visual spectacle and faithful adaptation of the source material.\n",
            "3. On aggregate review sites, \"Dune\" (2021) typically scores in the 80-90% range, indicating very positive reviews, though slightly lower than the Lord of the Rings films.\n",
            "4. \"Dune: Part Two\" (2024) has also been highly praised upon its release, with many critics considering it an improvement over the first part.\n",
            "\n",
            "Comparison:\n",
            "1. Critical Reception: Both series are critically acclaimed, but the Lord of the Rings trilogy generally edges out Dune in terms of overall critical consensus and awards recognition.\n",
            "2. Audience Reception: Both series are beloved by audiences, but the Lord of the Rings has had more time to build a larger and more dedicated fanbase.\n",
            "3. Cultural Impact: The Lord of the Rings trilogy has had a more significant cultural impact, largely due to its earlier release and\n"
>>>>>>> upstream/main
          ]
        }
      ],
      "source": [
        "print(str(response))"
      ]
    },
    {
      "cell_type": "markdown",
      "metadata": {
        "id": "-2LOixbcSWAD"
      },
      "source": [
        "### Task 2: Combined RAG Pipeline\n",
        "\n",
        "Now, we can simply add our tools into the `OpenAIAgent`, and off we go!"
      ]
    },
    {
      "cell_type": "code",
<<<<<<< HEAD
      "execution_count": 58,
=======
      "execution_count": 61,
>>>>>>> upstream/main
      "metadata": {
        "id": "uxFHM2l2SWAD"
      },
      "outputs": [],
      "source": [
        "combined_tool_agent_worker = FunctionCallingAgentWorker.from_tools(\n",
        "    tools=[auto_retrieve_tool, sql_tool],\n",
        "    verbose=True\n",
        ")\n",
        "\n",
        "combined_tool_agent = combined_tool_agent_worker.as_agent()"
      ]
    },
    {
      "cell_type": "code",
<<<<<<< HEAD
      "execution_count": 59,
=======
      "execution_count": 62,
>>>>>>> upstream/main
      "metadata": {
        "colab": {
          "base_uri": "https://localhost:8080/"
        },
        "id": "mYVHuBf9SWAD",
<<<<<<< HEAD
        "outputId": "870eeafe-1082-4b1d-8897-75a6fc2242e0"
=======
        "outputId": "286e742b-7aac-4306-c0c7-da62dd3519dc"
>>>>>>> upstream/main
      },
      "outputs": [
        {
          "name": "stdout",
          "output_type": "stream",
          "text": [
            "Added user message to memory: Which movie is about a ring, and what is the average rating of the movie?\n",
<<<<<<< HEAD
            "=== Calling Function ===\n",
            "Calling function: semantic-film-info with args: {\"query\": \"movie about a ring\", \"filter_key_list\": [\"title\"], \"filter_value_list\": [\"The Lord of the Rings: The Fellowship of the Ring\", \"The Lord of the Rings: The Two Towers\"]}\n",
            "=== Function Output ===\n",
            "The movie is about the Dark Lord Sauron, who seeks the One Ring to return to power. The Ring has found its way to a young hobbit named Frodo Baggins. Frodo and eight companions form the Fellowship of the Ring and embark on a perilous journey to Mount Doom in Mordor, the only place where the Ring can be destroyed.\n",
            "=== Calling Function ===\n",
            "Calling function: sql-query with args: {\"input\": \"SELECT AVG(rating) as average_rating FROM \\\"The Lord of the Rings: The Fellowship of the Ring\\\"\"}\n",
            "=== Function Output ===\n",
            "The average rating for \"The Lord of the Rings: The Fellowship of the Ring\" is approximately 9.87.\n",
            "=== LLM Response ===\n",
            "The movie about a ring is \"The Lord of the Rings: The Fellowship of the Ring.\" It tells the story of the Dark Lord Sauron, who seeks the One Ring to return to power. The Ring has found its way to a young hobbit named Frodo Baggins. Frodo and eight companions form the Fellowship of the Ring and embark on a perilous journey to Mount Doom in Mordor, the only place where the Ring can be destroyed.\n",
            "\n",
            "The average rating for \"The Lord of the Rings: The Fellowship of the Ring\" is approximately 9.87.\n"
=======
            "=== LLM Response ===\n",
            "To answer your question, we'll need to use two different tools. First, we'll use the semantic film info tool to find out which movie is about a ring, and then we'll use the SQL query tool to get the average rating for that movie.\n",
            "\n",
            "Let's start with finding the movie about a ring:\n",
            "=== Calling Function ===\n",
            "Calling function: semantic-film-info with args: {\"query\": \"Which movie is about a ring?\", \"filter_key_list\": [], \"filter_value_list\": []}\n",
            "=== Function Output ===\n",
            "The movie that is about a ring is \"The Lord of the Rings: The Fellowship of the Ring.\" This 2001 epic fantasy adventure film, directed by Peter Jackson, tells the story of a powerful ring sought by the Dark Lord Sauron. The plot revolves around a young hobbit named Frodo Baggins who inherits this ring and must embark on a perilous journey with eight companions to destroy it in Mount Doom, the only place where it can be destroyed. The fate of Middle-earth hangs in the balance as they undertake this quest to prevent the ring from falling into Sauron's hands and allowing him to return to power.\n",
            "=== LLM Response ===\n",
            "Now that we know the movie about a ring is \"The Lord of the Rings: The Fellowship of the Ring,\" let's find out its average rating:\n",
            "=== Calling Function ===\n",
            "Calling function: sql-query with args: {\"input\": \"What is the average rating of \\\"The Lord of the Rings: The Fellowship of the Ring\\\"?\"}\n",
            "=== Function Output ===\n",
            "Based on the SQL query results, the average rating of \"The Lord of the Rings: The Fellowship of the Ring\" is approximately 9.87 out of 10. This extremely high rating indicates that the movie is very highly regarded by viewers and critics alike. The Fellowship of the Ring, being the first installment in The Lord of the Rings trilogy, has clearly made a significant impact and is considered an exceptional film by those who have rated it.\n"
          ]
        },
        {
          "name": "stderr",
          "output_type": "stream",
          "text": [
            "\u001b[34m\u001b[1mwandb\u001b[0m: Logged trace tree to W&B.\n"
          ]
        },
        {
          "name": "stdout",
          "output_type": "stream",
          "text": [
            "=== LLM Response ===\n",
            "Now, I can answer your question completely:\n",
            "\n",
            "The movie about a ring is \"The Lord of the Rings: The Fellowship of the Ring.\" This movie is the first installment in The Lord of the Rings trilogy, directed by Peter Jackson. It tells the story of Frodo Baggins and his quest to destroy a powerful ring sought by the Dark Lord Sauron.\n",
            "\n",
            "The average rating of \"The Lord of the Rings: The Fellowship of the Ring\" is approximately 9.87 out of 10. This exceptionally high rating suggests that the movie is widely loved and critically acclaimed, considered a masterpiece in the fantasy genre.\n"
>>>>>>> upstream/main
          ]
        }
      ],
      "source": [
        "response = combined_tool_agent.chat(\"Which movie is about a ring, and what is the average rating of the movie?\")"
      ]
    },
    {
      "cell_type": "code",
<<<<<<< HEAD
      "execution_count": 60,
      "metadata": {
        "colab": {
          "base_uri": "https://localhost:8080/"
        },
        "id": "k0w0VbomSWAD",
        "outputId": "cb34be55-800f-4a2b-b926-571fd57a0ef1"
      },
      "outputs": [
        {
          "name": "stdout",
          "output_type": "stream",
          "text": [
            "The movie about a ring is \"The Lord of the Rings: The Fellowship of the Ring.\" It tells the story of the Dark Lord Sauron, who seeks the One Ring to return to power. The Ring has found its way to a young hobbit named Frodo Baggins. Frodo and eight companions form the Fellowship of the Ring and embark on a perilous journey to Mount Doom in Mordor, the only place where the Ring can be destroyed.\n",
            "\n",
            "The average rating for \"The Lord of the Rings: The Fellowship of the Ring\" is approximately 9.87.\n"
          ]
        }
      ],
      "source": [
        "print(str(response))"
      ]
    },
    {
      "cell_type": "code",
      "execution_count": 61,
      "metadata": {
        "colab": {
          "base_uri": "https://localhost:8080/"
        },
        "id": "BJvN-vtJSWAD",
        "outputId": "2f832372-8f8a-4cd6-90a2-e7cb44f57e2f"
      },
      "outputs": [
        {
          "name": "stdout",
          "output_type": "stream",
          "text": [
            "Added user message to memory: What worlds do the LoTR, and Dune movies take place in?\n",
            "=== Calling Function ===\n",
            "Calling function: semantic-film-info with args: {\"query\": \"world where the movie takes place\", \"filter_key_list\": [\"title\"], \"filter_value_list\": [\"The Lord of the Rings: The Fellowship of the Ring\", \"The Lord of the Rings: The Two Towers\"]}\n",
            "=== Function Output ===\n",
            "The movie takes place in the fictional world of Middle-earth.\n",
            "=== Calling Function ===\n",
            "Calling function: semantic-film-info with args: {\"query\": \"world where the movie takes place\", \"filter_key_list\": [\"title\"], \"filter_value_list\": [\"Dune (2021 film)\", \"Dune: Part Two\"]}\n",
            "=== Function Output ===\n",
            "The movie takes place in a distant future where humanity has spread across the universe and settled on various planets. The primary settings include the desert planet Arrakis, known for its valuable spice melange, the oceanic planet Caladan, and the industrial planet Giedi Prime. The story revolves around the political and social dynamics of these planets and their inhabitants.\n",
            "=== LLM Response ===\n",
            "The worlds where the movies take place are as follows:\n",
            "\n",
            "- **The Lord of the Rings: The Fellowship of the Ring** and **The Lord of the Rings: The Two Towers** take place in the fictional world of **Middle-earth**.\n",
            "\n",
            "- **Dune (2021 film)** and **Dune: Part Two** take place in a distant future where humanity has spread across the universe and settled on various planets. The primary settings include the desert planet **Arrakis**, known for its valuable spice melange, the oceanic planet **Caladan**, and the industrial planet **Giedi Prime**. The story revolves around the political and social dynamics of these planets and their inhabitants.\n"
          ]
        }
      ],
      "source": [
        "response = combined_tool_agent.chat(\"What worlds do the LoTR, and Dune movies take place in?\")"
      ]
    },
    {
      "cell_type": "code",
      "execution_count": 62,
      "metadata": {
        "colab": {
          "base_uri": "https://localhost:8080/"
        },
        "id": "F74wGv6NSWAD",
        "outputId": "6e1ebf92-fb04-4dd0-bcf2-2e5069e07039"
      },
      "outputs": [
        {
          "name": "stdout",
          "output_type": "stream",
          "text": [
            "The worlds where the movies take place are as follows:\n",
            "\n",
            "- **The Lord of the Rings: The Fellowship of the Ring** and **The Lord of the Rings: The Two Towers** take place in the fictional world of **Middle-earth**.\n",
            "\n",
            "- **Dune (2021 film)** and **Dune: Part Two** take place in a distant future where humanity has spread across the universe and settled on various planets. The primary settings include the desert planet **Arrakis**, known for its valuable spice melange, the oceanic planet **Caladan**, and the industrial planet **Giedi Prime**. The story revolves around the political and social dynamics of these planets and their inhabitants.\n"
          ]
        }
      ],
      "source": [
        "print(str(response))"
      ]
    },
    {
      "cell_type": "code",
=======
>>>>>>> upstream/main
      "execution_count": 63,
      "metadata": {
        "colab": {
          "base_uri": "https://localhost:8080/"
        },
<<<<<<< HEAD
        "id": "Lvat4hmkvn3N",
        "outputId": "a9b1153d-7dcd-4f0c-af05-06b812f6574d"
=======
        "id": "k0w0VbomSWAD",
        "outputId": "5f67e404-cd96-4554-813a-44311cc26c5b"
>>>>>>> upstream/main
      },
      "outputs": [
        {
          "name": "stdout",
          "output_type": "stream",
          "text": [
<<<<<<< HEAD
            "Added user message to memory: Which of the following movie series is considered the 'best': Dune, or Lord of the Rings? Base your answer on both reviews, and non-review information.\n",
            "=== Calling Function ===\n",
            "Calling function: sql-query with args: {\"input\": \"SELECT AVG(rating) as average_rating FROM \\\"Dune (2021 film)\\\"\"}\n",
            "=== Function Output ===\n",
            "The average rating for the film \"Dune (2021)\" is approximately 8.34.\n",
            "=== Calling Function ===\n",
            "Calling function: sql-query with args: {\"input\": \"SELECT AVG(rating) as average_rating FROM \\\"Dune: Part Two\\\"\"}\n",
            "=== Function Output ===\n",
            "The average rating for \"Dune: Part Two\" is approximately 8.71.\n",
            "=== Calling Function ===\n",
            "Calling function: sql-query with args: {\"input\": \"SELECT AVG(rating) as average_rating FROM \\\"The Lord of the Rings: The Fellowship of the Ring\\\"\"}\n",
            "=== Function Output ===\n",
            "The average rating for \"The Lord of the Rings: The Fellowship of the Ring\" is approximately 9.87.\n",
            "=== Calling Function ===\n",
            "Calling function: sql-query with args: {\"input\": \"SELECT AVG(rating) as average_rating FROM \\\"The Lord of the Rings: The Two Towers\\\"\"}\n",
            "=== Function Output ===\n",
            "The average rating for \"The Lord of the Rings: The Two Towers\" is approximately 9.18.\n",
            "=== Calling Function ===\n",
            "Calling function: semantic-film-info with args: {\"query\": \"critical acclaim and awards\", \"filter_key_list\": [\"title\"], \"filter_value_list\": [\"Dune (2021 film)\", \"Dune: Part Two\", \"The Lord of the Rings: The Fellowship of the Ring\", \"The Lord of the Rings: The Two Towers\"]}\n",
            "=== Function Output ===\n",
            "The film \"Dune\" received generally positive critical acclaim, particularly for its ambition, story, scope, worldbuilding, performances (especially those of Timothée Chalamet and Rebecca Ferguson), and production values. However, some critics found the story incomplete and dull, and there were mixed opinions on the runtime, pacing, and adaptation of the source material. \n",
            "\n",
            "On Rotten Tomatoes, 83% of 514 critics' reviews were positive, with an average rating of 7.6/10. Metacritic gave the film a weighted average score of 74 out of 100, indicating \"generally favorable reviews.\" Audience responses were also positive, with CinemaScore giving it an average grade of \"A−\" and PostTrak reporting an 84% positive score and 66% of viewers saying they would definitely recommend it.\n",
            "\n",
            "The film's critical reception highlighted its worldbuilding, ensemble cast, set pieces, and production design, though some critics had reservations about its ending and the portrayal of cultural elements.\n",
            "=== LLM Response ===\n",
            "### Reviews and Ratings\n",
            "\n",
            "#### Dune Series\n",
            "- **Dune (2021 film)**\n",
            "  - Average Rating: 8.34\n",
            "  - Critical Acclaim: Generally positive, praised for ambition, story, scope, worldbuilding, performances, and production values. Some criticism for being incomplete and dull, with mixed opinions on runtime, pacing, and adaptation.\n",
            "  - Rotten Tomatoes: 83% positive reviews, average rating 7.6/10\n",
            "  - Metacritic: Score of 74/100\n",
            "  - Audience Responses: CinemaScore grade \"A−\", PostTrak 84% positive score, 66% would recommend\n",
            "\n",
            "- **Dune: Part Two**\n",
            "  - Average Rating: 8.71\n",
            "\n",
            "#### The Lord of the Rings Series\n",
            "- **The Lord of the Rings: The Fellowship of the Ring**\n",
            "  - Average Rating: 9.87\n",
            "\n",
            "- **The Lord of the Rings: The Two Towers**\n",
            "  - Average Rating: 9.18\n",
            "\n",
            "### Non-Review Information\n",
            "- **Dune Series**\n",
            "  - The Dune series is set in a distant future with humanity spread across various planets, focusing on political and social dynamics, particularly on the desert planet Arrakis.\n",
            "\n",
            "- **The Lord of the Rings Series**\n",
            "  - The Lord of the Rings series is set in the fictional world of Middle-earth, focusing on the quest to destroy the One Ring to prevent the Dark Lord Sauron from returning to power.\n",
            "\n",
            "### Conclusion\n",
            "Based on both reviews and non-review information, **The Lord of the Rings series** is considered the 'best' compared to the Dune series. The average ratings for both \"The Fellowship of the Ring\" and \"The Two Towers\" are significantly higher than those for the Dune movies. Additionally, the Lord of the Rings series has received widespread acclaim for its storytelling, worldbuilding, and overall impact on the fantasy genre.\n"
=======
            "Now, I can answer your question completely:\n",
            "\n",
            "The movie about a ring is \"The Lord of the Rings: The Fellowship of the Ring.\" This movie is the first installment in The Lord of the Rings trilogy, directed by Peter Jackson. It tells the story of Frodo Baggins and his quest to destroy a powerful ring sought by the Dark Lord Sauron.\n",
            "\n",
            "The average rating of \"The Lord of the Rings: The Fellowship of the Ring\" is approximately 9.87 out of 10. This exceptionally high rating suggests that the movie is widely loved and critically acclaimed, considered a masterpiece in the fantasy genre.\n"
>>>>>>> upstream/main
          ]
        }
      ],
      "source": [
<<<<<<< HEAD
        "response = combined_tool_agent.chat(\"Which of the following movie series is considered the 'best': Dune, or Lord of the Rings? Base your answer on both reviews, and non-review information.\")"
=======
        "print(str(response))"
>>>>>>> upstream/main
      ]
    },
    {
      "cell_type": "code",
      "execution_count": 64,
      "metadata": {
        "colab": {
          "base_uri": "https://localhost:8080/"
        },
<<<<<<< HEAD
        "id": "BEOpeuAovtZM",
        "outputId": "9446476b-061c-464a-ef08-25cbb6a97b36"
=======
        "id": "BJvN-vtJSWAD",
        "outputId": "3ddeb5fa-d277-4e9d-f368-402eec05b598"
>>>>>>> upstream/main
      },
      "outputs": [
        {
          "name": "stdout",
          "output_type": "stream",
          "text": [
<<<<<<< HEAD
            "### Reviews and Ratings\n",
            "\n",
            "#### Dune Series\n",
            "- **Dune (2021 film)**\n",
            "  - Average Rating: 8.34\n",
            "  - Critical Acclaim: Generally positive, praised for ambition, story, scope, worldbuilding, performances, and production values. Some criticism for being incomplete and dull, with mixed opinions on runtime, pacing, and adaptation.\n",
            "  - Rotten Tomatoes: 83% positive reviews, average rating 7.6/10\n",
            "  - Metacritic: Score of 74/100\n",
            "  - Audience Responses: CinemaScore grade \"A−\", PostTrak 84% positive score, 66% would recommend\n",
            "\n",
            "- **Dune: Part Two**\n",
            "  - Average Rating: 8.71\n",
            "\n",
            "#### The Lord of the Rings Series\n",
            "- **The Lord of the Rings: The Fellowship of the Ring**\n",
            "  - Average Rating: 9.87\n",
            "\n",
            "- **The Lord of the Rings: The Two Towers**\n",
            "  - Average Rating: 9.18\n",
            "\n",
            "### Non-Review Information\n",
            "- **Dune Series**\n",
            "  - The Dune series is set in a distant future with humanity spread across various planets, focusing on political and social dynamics, particularly on the desert planet Arrakis.\n",
            "\n",
            "- **The Lord of the Rings Series**\n",
            "  - The Lord of the Rings series is set in the fictional world of Middle-earth, focusing on the quest to destroy the One Ring to prevent the Dark Lord Sauron from returning to power.\n",
            "\n",
            "### Conclusion\n",
            "Based on both reviews and non-review information, **The Lord of the Rings series** is considered the 'best' compared to the Dune series. The average ratings for both \"The Fellowship of the Ring\" and \"The Two Towers\" are significantly higher than those for the Dune movies. Additionally, the Lord of the Rings series has received widespread acclaim for its storytelling, worldbuilding, and overall impact on the fantasy genre.\n"
=======
            "Added user message to memory: What worlds do the LoTR, and Dune movies take place in?\n",
            "=== LLM Response ===\n",
            "To answer this question, we'll need to use the semantic film info tool to gather information about the worlds in which the Lord of the Rings (LoTR) and Dune movies take place. We'll make two separate queries, one for each franchise.\n",
            "=== Calling Function ===\n",
            "Calling function: semantic-film-info with args: {\"query\": \"What world do the Lord of the Rings movies take place in?\", \"filter_key_list\": [\"title\"], \"filter_value_list\": [\"The Lord of the Rings: The Fellowship of the Ring\"]}\n",
            "=== Function Output ===\n",
            "The Lord of the Rings movies take place in a world called Middle-earth. This fantasy realm is the setting for the epic adventure that unfolds in the film, where various races including hobbits, elves, dwarves, and men face the threat of the Dark Lord Sauron. The story follows Frodo Baggins and his companions as they embark on a perilous journey across Middle-earth to destroy the One Ring and prevent Sauron from regaining his full power.\n",
            "=== LLM Response ===\n",
            "Now, let's find out about the world of the Dune movies:\n",
            "=== Calling Function ===\n",
            "Calling function: semantic-film-info with args: {\"query\": \"What world do the Dune movies take place in?\", \"filter_key_list\": [\"title\"], \"filter_value_list\": [\"Dune (2021 film)\"]}\n",
            "=== Function Output ===\n",
            "The Dune movies take place in a distant future universe, primarily on the planet Arrakis. Arrakis is a harsh desert planet that is the sole source of a valuable substance called \"spice.\" The story also involves other planets such as Caladan, ruled by House Atreides, and Giedi Prime, the home of House Harkonnen. This universe features interstellar travel, noble houses, and complex political and religious systems. The film depicts a rich, intricate world with advanced technology, mystical abilities, and dangerous creatures like the giant sandworms of Arrakis.\n"
          ]
        },
        {
          "name": "stderr",
          "output_type": "stream",
          "text": [
            "\u001b[34m\u001b[1mwandb\u001b[0m: Logged trace tree to W&B.\n"
          ]
        },
        {
          "name": "stdout",
          "output_type": "stream",
          "text": [
            "=== LLM Response ===\n",
            "Now, I can provide a comprehensive answer to your question:\n",
            "\n",
            "1. The Lord of the Rings (LoTR) movies:\n",
            "   The LoTR movies take place in a world called Middle-earth. This is a fantasy realm created by J.R.R. Tolkien, featuring various races such as hobbits, elves, dwarves, and men. The story unfolds across different regions of Middle-earth as the characters embark on their quest to destroy the One Ring and defeat the Dark Lord Sauron.\n",
            "\n",
            "2. The Dune movies:\n",
            "   The Dune movies are set in a distant future universe, with the primary focus on the planet Arrakis. However, the Dune universe is vast and includes multiple planets:\n",
            "\n",
            "   - Arrakis: Also known as Dune, this is a harsh desert planet and the only source of the valuable substance called \"spice.\"\n",
            "   - Caladan: The homeworld of House Atreides before they move to Arrakis.\n",
            "   - Giedi Prime: The homeworld of House Harkonnen.\n",
            "\n",
            "   This universe features interstellar travel, complex political systems involving noble houses, advanced technology, and unique elements like the giant sandworms of Arrakis.\n",
            "\n",
            "Both franchises create rich, detailed worlds for their stories, but they are vastly different in nature. Middle-earth is a fantasy world with magical elements, while the Dune universe is a far-future science fiction setting with its own unique blend of advanced technology and mystical abilities.\n"
          ]
        }
      ],
      "source": [
        "response = combined_tool_agent.chat(\"What worlds do the LoTR, and Dune movies take place in?\")"
      ]
    },
    {
      "cell_type": "code",
      "execution_count": 65,
      "metadata": {
        "colab": {
          "base_uri": "https://localhost:8080/"
        },
        "id": "F74wGv6NSWAD",
        "outputId": "a8c766d6-1984-47dc-dc6b-68fb95bc4af8"
      },
      "outputs": [
        {
          "name": "stdout",
          "output_type": "stream",
          "text": [
            "Now, I can provide a comprehensive answer to your question:\n",
            "\n",
            "1. The Lord of the Rings (LoTR) movies:\n",
            "   The LoTR movies take place in a world called Middle-earth. This is a fantasy realm created by J.R.R. Tolkien, featuring various races such as hobbits, elves, dwarves, and men. The story unfolds across different regions of Middle-earth as the characters embark on their quest to destroy the One Ring and defeat the Dark Lord Sauron.\n",
            "\n",
            "2. The Dune movies:\n",
            "   The Dune movies are set in a distant future universe, with the primary focus on the planet Arrakis. However, the Dune universe is vast and includes multiple planets:\n",
            "\n",
            "   - Arrakis: Also known as Dune, this is a harsh desert planet and the only source of the valuable substance called \"spice.\"\n",
            "   - Caladan: The homeworld of House Atreides before they move to Arrakis.\n",
            "   - Giedi Prime: The homeworld of House Harkonnen.\n",
            "\n",
            "   This universe features interstellar travel, complex political systems involving noble houses, advanced technology, and unique elements like the giant sandworms of Arrakis.\n",
            "\n",
            "Both franchises create rich, detailed worlds for their stories, but they are vastly different in nature. Middle-earth is a fantasy world with magical elements, while the Dune universe is a far-future science fiction setting with its own unique blend of advanced technology and mystical abilities.\n"
          ]
        }
      ],
      "source": [
        "print(str(response))"
      ]
    },
    {
      "cell_type": "code",
      "execution_count": 66,
      "metadata": {
        "colab": {
          "base_uri": "https://localhost:8080/"
        },
        "id": "Lvat4hmkvn3N",
        "outputId": "213651e2-70da-41d3-893d-d4ad5eef59a9"
      },
      "outputs": [
        {
          "name": "stdout",
          "output_type": "stream",
          "text": [
            "Added user message to memory: Which of the following movie series is considered the 'best': Dune, or Lord of the Rings? Base your answer on both reviews, and non-review information.\n",
            "=== LLM Response ===\n",
            "To answer this question comprehensively, we'll need to gather information about both the Dune and Lord of the Rings movie series using our available tools. We'll look at review data as well as non-review information to make a comparison. Let's start by gathering some general information about both series, and then we'll look at the reviews.\n",
            "\n",
            "First, let's get some non-review information about both series:\n",
            "=== Calling Function ===\n",
            "Calling function: semantic-film-info with args: {\"query\": \"Compare the Dune and Lord of the Rings movie series in terms of their cultural impact, critical reception, and overall popularity.\", \"filter_key_list\": [], \"filter_value_list\": []}\n",
            "=== Function Output ===\n",
            "I apologize, but I do not have enough information in the given context to make a meaningful comparison between the Dune and Lord of the Rings movie series. The provided context only contains information about The Lord of the Rings films, specifically \"The Fellowship of the Ring\" and \"The Two Towers.\" There is no information about the Dune movies to allow for a comparison of their cultural impact, critical reception, or overall popularity.\n",
            "\n",
            "The context does indicate that The Lord of the Rings films were critically acclaimed and received numerous awards and accolades. \"The Fellowship of the Ring\" won four Academy Awards and was nominated for several others. It also received positive reviews from many critics and was recognized in various \"best of\" lists. \"The Two Towers\" was also very well-received, with critics praising its visual effects, battle scenes, and narrative construction.\n",
            "\n",
            "However, without similar information about the Dune series, I cannot provide a comparative analysis between the two franchises as requested in the query.\n",
            "=== LLM Response ===\n",
            "I apologize for the lack of comparative information. Let's try to gather specific information about each series separately, starting with Dune:\n",
            "=== Calling Function ===\n",
            "Calling function: semantic-film-info with args: {\"query\": \"Provide information about the Dune movie series, including its reception and cultural impact.\", \"filter_key_list\": [\"title\"], \"filter_value_list\": [\"Dune (2021 film)\"]}\n",
            "=== Function Output ===\n",
            "The Dune movie series, based on Frank Herbert's novel, has made a significant impact in the film industry. The 2021 adaptation, directed by Denis Villeneuve, received generally positive reception upon its premiere at the Venice Film Festival.\n",
            "\n",
            "Critics praised the film's ambition, story, scope, worldbuilding, performances (particularly Timothée Chalamet and Rebecca Ferguson), and production values. The writing, cinematography, and Hans Zimmer's score were also highly regarded. Many reviewers likened it to high-quality blockbuster filmmaking, with some comparing it to Christopher Nolan's style.\n",
            "\n",
            "However, the film also faced some criticism. Some reviewers found the story incomplete and the pacing slow. The runtime and adaptation choices were also points of contention for certain critics.\n",
            "\n",
            "The movie's cultural impact has been notable, sparking discussions about representation and cultural appropriation. Some commentators and academics criticized the film for neglecting Arabian and Islamic elements that influenced the original novel, and for the lack of Middle Eastern and North African (MENA) actors in key roles.\n",
            "\n",
            "The film's success led to the production of a sequel, Dune: Part Two, which was released in March 2024. There are also plans for a potential third film based on the novel \"Dune Messiah,\" which Villeneuve intends to serve as the conclusion of his Dune trilogy.\n",
            "\n",
            "The Dune series has garnered significant recognition in the film industry, receiving numerous award nominations and wins, including six Academy Awards. It was also ranked as one of the top ten films of 2021 by the American Film Institute, cementing its place in contemporary cinema.\n",
            "=== LLM Response ===\n",
            "Now, let's gather similar information about the Lord of the Rings series:\n",
            "=== Calling Function ===\n",
            "Calling function: semantic-film-info with args: {\"query\": \"Provide information about the Lord of the Rings movie series, including its reception and cultural impact.\", \"filter_key_list\": [\"title\"], \"filter_value_list\": [\"The Lord of the Rings: The Fellowship of the Ring\"]}\n",
            "=== Function Output ===\n",
            "The Lord of the Rings movie series, particularly \"The Fellowship of the Ring,\" has had a significant impact on cinema and popular culture. The first film in the trilogy was released in 2001 and was directed by Peter Jackson. It was a critical and commercial success, grossing over $868 million worldwide during its initial theatrical run.\n",
            "\n",
            "The movie received widespread acclaim for its visual effects, performances, direction, screenplay, musical score, and faithfulness to J.R.R. Tolkien's source material. It was praised as a landmark in filmmaking and a major achievement in the fantasy genre.\n",
            "\n",
            "The film's success was reflected in its numerous accolades. It won four Academy Awards out of thirteen nominations, including Best Cinematography, Best Visual Effects, Best Makeup, and Best Original Score. It also received recognition from other prestigious awards bodies, winning five BAFTAs and the Hugo Award for Best Dramatic Presentation.\n",
            "\n",
            "The cultural impact of the series has been substantial. The American Film Institute named \"The Fellowship of the Ring\" one of the 100 greatest American films in history, making it the most recent and only 21st-century film on that list at the time. In 2021, it was selected for preservation in the United States National Film Registry by the Library of Congress, acknowledging its cultural, historical, and aesthetic significance.\n",
            "\n",
            "However, it's worth noting that not all critics were entirely positive. Some found the film overly serious and self-important, and questioned the credibility of its fantasy universe.\n",
            "\n",
            "Despite any criticisms, the Lord of the Rings series has left an indelible mark on cinema and continues to be widely recognized as one of the greatest and most influential film series ever made. Its success paved the way for the two sequels, \"The Two Towers\" and \"The Return of the King,\" which were released in the following years and continued to build upon the trilogy's legacy.\n",
            "=== LLM Response ===\n",
            "Now, let's look at the review data for both series. We'll start with Dune:\n",
            "=== Calling Function ===\n",
            "Calling function: sql-query with args: {\"input\": \"What are the average ratings for the Dune movies?\"}\n",
            "=== Function Output ===\n",
            "Based on the query results, here are the average ratings for the Dune movies:\n",
            "\n",
            "1. Dune (2021 film): The average rating is approximately 8.34 out of 10.\n",
            "2. Dune: Part Two: The average rating is approximately 8.71 out of 10.\n",
            "\n",
            "Both movies have received high ratings, with Dune: Part Two slightly outperforming the first film. The sequel has an average rating that is about 0.37 points higher than its predecessor. These ratings suggest that both films have been well-received by audiences, with the second part garnering even more positive feedback.\n",
            "=== LLM Response ===\n",
            "Now, let's check the ratings for the Lord of the Rings movies:\n",
            "=== Calling Function ===\n",
            "Calling function: sql-query with args: {\"input\": \"What are the average ratings for the Lord of the Rings movies?\"}\n",
            "=== Function Output ===\n",
            "Based on the SQL query results, here are the average ratings for two of the Lord of the Rings movies:\n",
            "\n",
            "1. The Lord of the Rings: The Fellowship of the Ring - Average Rating: 9.87 out of 10\n",
            "2. The Lord of the Rings: The Two Towers - Average Rating: 9.18 out of 10\n",
            "\n",
            "Both movies have received exceptionally high ratings, with \"The Fellowship of the Ring\" scoring slightly higher than \"The Two Towers\". It's worth noting that these ratings are remarkably high, indicating that both films were very well-received by viewers.\n",
            "\n",
            "The data for the third movie in the trilogy, \"The Return of the King\", is not included in the provided results. To get a complete picture of the average ratings for all Lord of the Rings movies, we would need that information as well.\n"
          ]
        },
        {
          "name": "stderr",
          "output_type": "stream",
          "text": [
            "\u001b[34m\u001b[1mwandb\u001b[0m: Logged trace tree to W&B.\n"
          ]
        },
        {
          "name": "stdout",
          "output_type": "stream",
          "text": [
            "=== LLM Response ===\n",
            "Now, to answer your question about which movie series is considered the 'best' between Dune and Lord of the Rings, based on both reviews and non-review information:\n",
            "\n",
            "1. Critical Reception and Awards:\n",
            "   - Lord of the Rings: The series, particularly \"The Fellowship of the Ring,\" received widespread acclaim. It won numerous awards, including four Academy Awards for the first film alone. The series is considered a landmark in filmmaking and a major achievement in the fantasy genre.\n",
            "   - Dune: The 2021 film and its sequel have also received positive reception, with critics praising various aspects including performances, visuals, and score. The first film won six Academy Awards, showing strong recognition in the industry.\n",
            "\n",
            "2. Cultural Impact:\n",
            "   - Lord of the Rings: The series has had a massive cultural impact. \"The Fellowship of the Ring\" was named one of the 100 greatest American films in history by the American Film Institute and was selected for preservation in the United States National Film Registry.\n",
            "   - Dune: While significant, the cultural impact of the new Dune series appears to be still developing. It has sparked important discussions about representation and cultural appropriation.\n",
            "\n",
            "3. Ratings:\n",
            "   - Lord of the Rings: The two films we have data for show extremely high average ratings (9.87 and 9.18 out of 10).\n",
            "   - Dune: Both Dune films have very good ratings (8.34 and 8.71 out of 10), but they are slightly lower than the Lord of the Rings films.\n",
            "\n",
            "4. Legacy:\n",
            "   - Lord of the Rings: The series is widely recognized as one of the greatest and most influential film series ever made.\n",
            "   - Dune: While highly regarded, the new Dune series is still in the process of building its legacy, with plans for a third film.\n",
            "\n",
            "Conclusion:\n",
            "Based on the available information, the Lord of the Rings series is generally considered the 'best' between the two. It has a longer-standing legacy, higher average ratings, more significant cultural impact, and more extensive critical acclaim. However, it's important to note that:\n",
            "\n",
            "1. The Dune series is more recent and still ongoing, so its full impact may not yet be realized.\n",
            "2. Both series are highly regarded and have their own unique streng\n"
          ]
        }
      ],
      "source": [
        "response = combined_tool_agent.chat(\"Which of the following movie series is considered the 'best': Dune, or Lord of the Rings? Base your answer on both reviews, and non-review information.\")"
      ]
    },
    {
      "cell_type": "code",
      "execution_count": 67,
      "metadata": {
        "colab": {
          "base_uri": "https://localhost:8080/"
        },
        "id": "BEOpeuAovtZM",
        "outputId": "8c2e7d42-dfc7-4453-865a-58bd534b3b1e"
      },
      "outputs": [
        {
          "name": "stdout",
          "output_type": "stream",
          "text": [
            "Now, to answer your question about which movie series is considered the 'best' between Dune and Lord of the Rings, based on both reviews and non-review information:\n",
            "\n",
            "1. Critical Reception and Awards:\n",
            "   - Lord of the Rings: The series, particularly \"The Fellowship of the Ring,\" received widespread acclaim. It won numerous awards, including four Academy Awards for the first film alone. The series is considered a landmark in filmmaking and a major achievement in the fantasy genre.\n",
            "   - Dune: The 2021 film and its sequel have also received positive reception, with critics praising various aspects including performances, visuals, and score. The first film won six Academy Awards, showing strong recognition in the industry.\n",
            "\n",
            "2. Cultural Impact:\n",
            "   - Lord of the Rings: The series has had a massive cultural impact. \"The Fellowship of the Ring\" was named one of the 100 greatest American films in history by the American Film Institute and was selected for preservation in the United States National Film Registry.\n",
            "   - Dune: While significant, the cultural impact of the new Dune series appears to be still developing. It has sparked important discussions about representation and cultural appropriation.\n",
            "\n",
            "3. Ratings:\n",
            "   - Lord of the Rings: The two films we have data for show extremely high average ratings (9.87 and 9.18 out of 10).\n",
            "   - Dune: Both Dune films have very good ratings (8.34 and 8.71 out of 10), but they are slightly lower than the Lord of the Rings films.\n",
            "\n",
            "4. Legacy:\n",
            "   - Lord of the Rings: The series is widely recognized as one of the greatest and most influential film series ever made.\n",
            "   - Dune: While highly regarded, the new Dune series is still in the process of building its legacy, with plans for a third film.\n",
            "\n",
            "Conclusion:\n",
            "Based on the available information, the Lord of the Rings series is generally considered the 'best' between the two. It has a longer-standing legacy, higher average ratings, more significant cultural impact, and more extensive critical acclaim. However, it's important to note that:\n",
            "\n",
            "1. The Dune series is more recent and still ongoing, so its full impact may not yet be realized.\n",
            "2. Both series are highly regarded and have their own unique streng\n"
>>>>>>> upstream/main
          ]
        }
      ],
      "source": [
        "print(str(response))"
      ]
    },
    {
      "cell_type": "markdown",
      "metadata": {
        "id": "e1qaiDJYb1_v"
      },
      "source": [
        "####❓ Question #4:\n",
        "\n",
        "How can you verify which tool was used for which query?"
      ]
    },
    {
      "cell_type": "code",
      "execution_count": 62,
      "metadata": {
        "id": "D3ELqzOvSWAD"
      },
      "outputs": [],
      "source": [
        "wandb_callback.finish()"
      ]
    }
  ],
  "metadata": {
    "colab": {
<<<<<<< HEAD
      "provenance": [],
      "toc_visible": true
=======
      "provenance": []
>>>>>>> upstream/main
    },
    "kernelspec": {
      "display_name": "Python 3",
      "language": "python",
      "name": "python3"
    },
    "language_info": {
      "codemirror_mode": {
        "name": "ipython",
        "version": 3
      },
      "file_extension": ".py",
      "mimetype": "text/x-python",
      "name": "python",
      "nbconvert_exporter": "python",
      "pygments_lexer": "ipython3",
<<<<<<< HEAD
      "version": "3.12.3"
=======
      "version": "3.9.18"
>>>>>>> upstream/main
    },
    "orig_nbformat": 4
  },
  "nbformat": 4,
  "nbformat_minor": 0
}
